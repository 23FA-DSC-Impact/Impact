{
 "cells": [
  {
   "cell_type": "code",
   "execution_count": 4,
   "metadata": {},
   "outputs": [],
   "source": [
    "import numpy as np\n",
    "import pandas as pd\n",
    "import os"
   ]
  },
  {
   "cell_type": "code",
   "execution_count": 5,
   "metadata": {},
   "outputs": [],
   "source": [
    "import warnings\n",
    "warnings.filterwarnings(\"ignore\")"
   ]
  },
  {
   "cell_type": "code",
   "execution_count": 6,
   "metadata": {},
   "outputs": [],
   "source": [
    "dir_main = os.getcwd()\n",
    "dir_raw_data = os.path.join(dir_main, \"dataset\", \"raw\")"
   ]
  },
  {
   "cell_type": "code",
   "execution_count": 7,
   "metadata": {},
   "outputs": [],
   "source": [
    "sp = pd.read_csv(os.path.join(dir_raw_data, \"sp500.csv\"),\n",
    "                sep=\",\",\n",
    "                header=0,\n",
    "                dtype={\"Date\": object, \"Close/Last\": float,\n",
    "                       \"Open\": float, \"High\": float, \"Low\": float})"
   ]
  },
  {
   "cell_type": "code",
   "execution_count": 8,
   "metadata": {},
   "outputs": [],
   "source": [
    "# Rename columns for readability\n",
    "sp.rename(columns={\"Date\": 'date', \"Close/Last\": 'close',\n",
    "                   \"Open\": 'open', \"High\": 'high', \"Low\": 'low'},\n",
    "                   inplace=True)\n",
    "\n",
    "# Set date column's data type\n",
    "sp['date'] = pd.to_datetime(sp['date'])\n",
    "\n",
    "# Sort rows by ascending order of date\n",
    "sp = sp.sort_values('date')"
   ]
  },
  {
   "cell_type": "code",
   "execution_count": 9,
   "metadata": {},
   "outputs": [
    {
     "name": "stdout",
     "output_type": "stream",
     "text": [
      "<class 'pandas.core.frame.DataFrame'>\n",
      "Int64Index: 2538 entries, 2537 to 0\n",
      "Data columns (total 5 columns):\n",
      " #   Column  Non-Null Count  Dtype         \n",
      "---  ------  --------------  -----         \n",
      " 0   date    2538 non-null   datetime64[ns]\n",
      " 1   close   2538 non-null   float64       \n",
      " 2   open    2538 non-null   float64       \n",
      " 3   high    2538 non-null   float64       \n",
      " 4   low     2538 non-null   float64       \n",
      "dtypes: datetime64[ns](1), float64(4)\n",
      "memory usage: 119.0 KB\n"
     ]
    }
   ],
   "source": [
    "# Count null values\n",
    "sp.info()"
   ]
  },
  {
   "cell_type": "code",
   "execution_count": 10,
   "metadata": {},
   "outputs": [
    {
     "name": "stdout",
     "output_type": "stream",
     "text": [
      "First date:\t2013-11-11 00:00:00\n",
      "Latest date:\t2023-11-10 00:00:00\n"
     ]
    }
   ],
   "source": [
    "# Confirm first and last date\n",
    "print(\"First date:\\t\", sp['date'].iloc[0], sep=\"\")\n",
    "print(\"Latest date:\\t\", sp['date'].iloc[-1], sep=\"\")"
   ]
  },
  {
   "cell_type": "code",
   "execution_count": 11,
   "metadata": {},
   "outputs": [],
   "source": [
    "effr = pd.read_csv(os.path.join(dir_raw_data, \"EFFR.csv\"),\n",
    "                   sep=\",\",\n",
    "                   header=0,\n",
    "                   dtype={\"DATE\": object, \"EFFR\": float},\n",
    "                   na_values=[\".\"]\n",
    "                   )"
   ]
  },
  {
   "cell_type": "code",
   "execution_count": 12,
   "metadata": {},
   "outputs": [],
   "source": [
    "# Rename columns for readability\n",
    "effr.rename(columns={\"DATE\": 'date', \"EFFR\": 'effr'}, inplace=True)\n",
    "\n",
    "# Set date column's data type\n",
    "effr['date'] = pd.to_datetime(effr['date'])\n",
    "\n",
    "# Sort rows by ascending order of date\n",
    "effr = effr.sort_values('date')"
   ]
  },
  {
   "cell_type": "code",
   "execution_count": 13,
   "metadata": {},
   "outputs": [
    {
     "name": "stdout",
     "output_type": "stream",
     "text": [
      "<class 'pandas.core.frame.DataFrame'>\n",
      "Int64Index: 2608 entries, 0 to 2607\n",
      "Data columns (total 2 columns):\n",
      " #   Column  Non-Null Count  Dtype         \n",
      "---  ------  --------------  -----         \n",
      " 0   date    2608 non-null   datetime64[ns]\n",
      " 1   effr    2512 non-null   float64       \n",
      "dtypes: datetime64[ns](1), float64(1)\n",
      "memory usage: 61.1 KB\n"
     ]
    }
   ],
   "source": [
    "# Count null values\n",
    "effr.info()"
   ]
  },
  {
   "cell_type": "code",
   "execution_count": 14,
   "metadata": {},
   "outputs": [],
   "source": [
    "# Get list of null dates\n",
    "null_dates = effr['date'][effr['effr'].isna()]"
   ]
  },
  {
   "cell_type": "code",
   "execution_count": 15,
   "metadata": {},
   "outputs": [
    {
     "name": "stdout",
     "output_type": "stream",
     "text": [
      "First date:\t2013-11-12 00:00:00\n",
      "Latest date:\t2023-11-09 00:00:00\n"
     ]
    }
   ],
   "source": [
    "# Confirm first and last date\n",
    "print(\"First date:\\t\", effr['date'].iloc[0], sep=\"\")\n",
    "print(\"Latest date:\\t\", effr['date'].iloc[-1], sep=\"\")"
   ]
  },
  {
   "cell_type": "code",
   "execution_count": 16,
   "metadata": {},
   "outputs": [],
   "source": [
    "gdp = pd.read_csv(os.path.join(dir_raw_data, \"GDP.csv\"),\n",
    "                  sep=\",\",\n",
    "                  header=0,\n",
    "                  dtype={\"DATE\": object, \"GDP\": float})"
   ]
  },
  {
   "cell_type": "code",
   "execution_count": 17,
   "metadata": {},
   "outputs": [],
   "source": [
    "# Rename columns for readability\n",
    "gdp.rename(columns={\"DATE\": \"date\", \"GDP\": \"gdp\"}, inplace=True)\n",
    "\n",
    "# Set date column's data type\n",
    "gdp['date'] = pd.to_datetime(gdp['date'])\n",
    "\n",
    "# Sort rows by ascending order of date\n",
    "gdp = gdp.sort_values('date')"
   ]
  },
  {
   "cell_type": "code",
   "execution_count": 18,
   "metadata": {},
   "outputs": [
    {
     "name": "stdout",
     "output_type": "stream",
     "text": [
      "<class 'pandas.core.frame.DataFrame'>\n",
      "Int64Index: 40 entries, 0 to 39\n",
      "Data columns (total 2 columns):\n",
      " #   Column  Non-Null Count  Dtype         \n",
      "---  ------  --------------  -----         \n",
      " 0   date    40 non-null     datetime64[ns]\n",
      " 1   gdp     40 non-null     float64       \n",
      "dtypes: datetime64[ns](1), float64(1)\n",
      "memory usage: 960.0 bytes\n"
     ]
    }
   ],
   "source": [
    "# Count null values\n",
    "gdp.info()"
   ]
  },
  {
   "cell_type": "code",
   "execution_count": 19,
   "metadata": {},
   "outputs": [
    {
     "name": "stdout",
     "output_type": "stream",
     "text": [
      "First date:\t2013-10-01 00:00:00\n",
      "Latest date:\t2023-07-01 00:00:00\n"
     ]
    }
   ],
   "source": [
    "# Confirm first and last date\n",
    "print(\"First date:\\t\", gdp['date'].iloc[0], sep=\"\")\n",
    "print(\"Latest date:\\t\", gdp['date'].iloc[-1], sep=\"\")"
   ]
  },
  {
   "cell_type": "code",
   "execution_count": 20,
   "metadata": {},
   "outputs": [],
   "source": [
    "acwi = pd.read_csv(os.path.join(dir_raw_data, \"ACWI.csv\"),\n",
    "                  sep=\",\",\n",
    "                  header=0,\n",
    "                  dtype={\"Date\": object, \"Open\": float, \"High\": float,\n",
    "                         \"Low\": float, \"Close\": float,\n",
    "                         \"Adj Close\": float, \"Volume\": float})"
   ]
  },
  {
   "cell_type": "code",
   "execution_count": 21,
   "metadata": {},
   "outputs": [],
   "source": [
    "# Remove unnecessary columns\n",
    "acwi = acwi[['Date', 'Adj Close']]\n",
    "\n",
    "# Rename columns for readability\n",
    "acwi.rename(columns={\"Date\": \"date\", \"Adj Close\": \"acwi_adj_close\"}, inplace=True)\n",
    "\n",
    "# Set date column's data type\n",
    "acwi['date'] = pd.to_datetime(acwi['date'])\n",
    "\n",
    "# Sort rows by ascending order of date\n",
    "acwi = acwi.sort_values('date')"
   ]
  },
  {
   "cell_type": "code",
   "execution_count": 22,
   "metadata": {},
   "outputs": [
    {
     "name": "stdout",
     "output_type": "stream",
     "text": [
      "<class 'pandas.core.frame.DataFrame'>\n",
      "Int64Index: 2547 entries, 0 to 2546\n",
      "Data columns (total 2 columns):\n",
      " #   Column          Non-Null Count  Dtype         \n",
      "---  ------          --------------  -----         \n",
      " 0   date            2547 non-null   datetime64[ns]\n",
      " 1   acwi_adj_close  2547 non-null   float64       \n",
      "dtypes: datetime64[ns](1), float64(1)\n",
      "memory usage: 59.7 KB\n"
     ]
    }
   ],
   "source": [
    "acwi.info()"
   ]
  },
  {
   "cell_type": "code",
   "execution_count": 23,
   "metadata": {},
   "outputs": [
    {
     "name": "stdout",
     "output_type": "stream",
     "text": [
      "First date:\t2013-10-01 00:00:00\n",
      "Latest date:\t2023-11-10 00:00:00\n"
     ]
    }
   ],
   "source": [
    "# Confirm first and last date\n",
    "print(\"First date:\\t\", acwi['date'].iloc[0], sep=\"\")\n",
    "print(\"Latest date:\\t\", acwi['date'].iloc[-1], sep=\"\")"
   ]
  },
  {
   "cell_type": "code",
   "execution_count": 24,
   "metadata": {},
   "outputs": [],
   "source": [
    "# Generate valid date pd.series\n",
    "valid_date = sp['date']\n",
    "mask_validDate = (valid_date >= pd.to_datetime('2013-11-12')) &\\\n",
    "                 (valid_date <= pd.to_datetime('2023-11-09')) &\\\n",
    "                 (~valid_date.isin(null_dates))\n",
    "valid_date = valid_date[mask_validDate]"
   ]
  },
  {
   "cell_type": "code",
   "execution_count": 25,
   "metadata": {},
   "outputs": [],
   "source": [
    "# Merge with S&P500\n",
    "dataset = pd.merge(valid_date, sp, on='date', how='inner')\n",
    "\n",
    "# Merge with US GDP; apply latest quarterly GDP at any given date\n",
    "dataset = pd.merge_asof(dataset, gdp, on='date', direction='backward')\n",
    "\n",
    "# Merge with Effective Federal Fund Rate\n",
    "dataset = pd.merge(dataset, effr, on='date', how='inner')\n",
    "\n",
    "# Merge with MSCI ACWI ETF\n",
    "dataset = pd.merge(dataset, acwi, on='date', how='inner')"
   ]
  },
  {
   "cell_type": "code",
   "execution_count": 26,
   "metadata": {},
   "outputs": [],
   "source": [
    "from sklearn.preprocessing import StandardScaler"
   ]
  },
  {
   "cell_type": "code",
   "execution_count": 27,
   "metadata": {},
   "outputs": [],
   "source": [
    "# Standardization for every column except date\n",
    "scaler = StandardScaler()\n",
    "columns_to_standardize = dataset.columns.drop('date')\n",
    "dataset[columns_to_standardize] = scaler.fit_transform(dataset[columns_to_standardize])"
   ]
  },
  {
   "cell_type": "code",
   "execution_count": 28,
   "metadata": {},
   "outputs": [
    {
     "name": "stdout",
     "output_type": "stream",
     "text": [
      "<class 'pandas.core.frame.DataFrame'>\n",
      "Int64Index: 2498 entries, 0 to 2497\n",
      "Data columns (total 8 columns):\n",
      " #   Column          Non-Null Count  Dtype         \n",
      "---  ------          --------------  -----         \n",
      " 0   date            2498 non-null   datetime64[ns]\n",
      " 1   close           2498 non-null   float64       \n",
      " 2   open            2498 non-null   float64       \n",
      " 3   high            2498 non-null   float64       \n",
      " 4   low             2498 non-null   float64       \n",
      " 5   gdp             2498 non-null   float64       \n",
      " 6   effr            2498 non-null   float64       \n",
      " 7   acwi_adj_close  2498 non-null   float64       \n",
      "dtypes: datetime64[ns](1), float64(7)\n",
      "memory usage: 175.6 KB\n"
     ]
    }
   ],
   "source": [
    "dataset.info()"
   ]
  },
  {
   "cell_type": "code",
   "execution_count": 29,
   "metadata": {},
   "outputs": [],
   "source": [
    "dir_main = os.getcwd()\n",
    "dir_prepared_data = os.path.join(dir_main, \"dataset\", \"prepared\")"
   ]
  },
  {
   "cell_type": "code",
   "execution_count": 30,
   "metadata": {},
   "outputs": [],
   "source": [
    "dataset.to_csv(os.path.join(dir_prepared_data, \"dataset.csv\"),\n",
    "               index=False)"
   ]
  },
  {
   "cell_type": "code",
   "execution_count": 31,
   "metadata": {},
   "outputs": [
    {
     "name": "stdout",
     "output_type": "stream",
     "text": [
      "<class 'pandas.core.frame.DataFrame'>\n",
      "RangeIndex: 2498 entries, 0 to 2497\n",
      "Data columns (total 8 columns):\n",
      " #   Column          Non-Null Count  Dtype         \n",
      "---  ------          --------------  -----         \n",
      " 0   date            2498 non-null   datetime64[ns]\n",
      " 1   close           2498 non-null   float64       \n",
      " 2   open            2498 non-null   float64       \n",
      " 3   high            2498 non-null   float64       \n",
      " 4   low             2498 non-null   float64       \n",
      " 5   gdp             2498 non-null   float64       \n",
      " 6   effr            2498 non-null   float64       \n",
      " 7   acwi_adj_close  2498 non-null   float64       \n",
      "dtypes: datetime64[ns](1), float64(7)\n",
      "memory usage: 156.2 KB\n"
     ]
    }
   ],
   "source": [
    "dataset = pd.read_csv(os.path.join(dir_prepared_data, \"dataset.csv\"),\n",
    "                      sep=\",\",\n",
    "                      header=0,\n",
    "                      dtype={\"date\": object, \"close\": float, \"open\": float,\n",
    "                             \"high\": float, \"low\": float,\n",
    "                             \"gdp\": float, \"effr\": float,\n",
    "                             \"acwi_adj_close\": float})\n",
    "dataset['date'] = pd.to_datetime(dataset['date'])\n",
    "dataset.info()"
   ]
  },
  {
   "cell_type": "code",
   "execution_count": 32,
   "metadata": {},
   "outputs": [
    {
     "data": {
      "text/html": [
       "<div>\n",
       "<style scoped>\n",
       "    .dataframe tbody tr th:only-of-type {\n",
       "        vertical-align: middle;\n",
       "    }\n",
       "\n",
       "    .dataframe tbody tr th {\n",
       "        vertical-align: top;\n",
       "    }\n",
       "\n",
       "    .dataframe thead th {\n",
       "        text-align: right;\n",
       "    }\n",
       "</style>\n",
       "<table border=\"1\" class=\"dataframe\">\n",
       "  <thead>\n",
       "    <tr style=\"text-align: right;\">\n",
       "      <th></th>\n",
       "      <th>date</th>\n",
       "      <th>close</th>\n",
       "      <th>open</th>\n",
       "      <th>high</th>\n",
       "      <th>low</th>\n",
       "      <th>gdp</th>\n",
       "      <th>effr</th>\n",
       "      <th>acwi_adj_close</th>\n",
       "    </tr>\n",
       "  </thead>\n",
       "  <tbody>\n",
       "    <tr>\n",
       "      <th>0</th>\n",
       "      <td>2013-11-12</td>\n",
       "      <td>-1.345435</td>\n",
       "      <td>-1.342970</td>\n",
       "      <td>-1.348965</td>\n",
       "      <td>-1.341466</td>\n",
       "      <td>-1.356437</td>\n",
       "      <td>-0.762869</td>\n",
       "      <td>-1.287741</td>\n",
       "    </tr>\n",
       "    <tr>\n",
       "      <th>1</th>\n",
       "      <td>2013-11-13</td>\n",
       "      <td>-1.329387</td>\n",
       "      <td>-1.348735</td>\n",
       "      <td>-1.337583</td>\n",
       "      <td>-1.343330</td>\n",
       "      <td>-1.356437</td>\n",
       "      <td>-0.762869</td>\n",
       "      <td>-1.272056</td>\n",
       "    </tr>\n",
       "    <tr>\n",
       "      <th>2</th>\n",
       "      <td>2013-11-14</td>\n",
       "      <td>-1.319719</td>\n",
       "      <td>-1.328121</td>\n",
       "      <td>-1.326970</td>\n",
       "      <td>-1.321207</td>\n",
       "      <td>-1.356437</td>\n",
       "      <td>-0.756076</td>\n",
       "      <td>-1.259139</td>\n",
       "    </tr>\n",
       "    <tr>\n",
       "      <th>3</th>\n",
       "      <td>2013-11-15</td>\n",
       "      <td>-1.311241</td>\n",
       "      <td>-1.319250</td>\n",
       "      <td>-1.319520</td>\n",
       "      <td>-1.309411</td>\n",
       "      <td>-1.356437</td>\n",
       "      <td>-0.756076</td>\n",
       "      <td>-1.240225</td>\n",
       "    </tr>\n",
       "    <tr>\n",
       "      <th>4</th>\n",
       "      <td>2013-11-18</td>\n",
       "      <td>-1.318699</td>\n",
       "      <td>-1.310099</td>\n",
       "      <td>-1.314943</td>\n",
       "      <td>-1.312417</td>\n",
       "      <td>-1.356437</td>\n",
       "      <td>-0.756076</td>\n",
       "      <td>-1.242993</td>\n",
       "    </tr>\n",
       "  </tbody>\n",
       "</table>\n",
       "</div>"
      ],
      "text/plain": [
       "        date     close      open      high       low       gdp      effr  \\\n",
       "0 2013-11-12 -1.345435 -1.342970 -1.348965 -1.341466 -1.356437 -0.762869   \n",
       "1 2013-11-13 -1.329387 -1.348735 -1.337583 -1.343330 -1.356437 -0.762869   \n",
       "2 2013-11-14 -1.319719 -1.328121 -1.326970 -1.321207 -1.356437 -0.756076   \n",
       "3 2013-11-15 -1.311241 -1.319250 -1.319520 -1.309411 -1.356437 -0.756076   \n",
       "4 2013-11-18 -1.318699 -1.310099 -1.314943 -1.312417 -1.356437 -0.756076   \n",
       "\n",
       "   acwi_adj_close  \n",
       "0       -1.287741  \n",
       "1       -1.272056  \n",
       "2       -1.259139  \n",
       "3       -1.240225  \n",
       "4       -1.242993  "
      ]
     },
     "execution_count": 32,
     "metadata": {},
     "output_type": "execute_result"
    }
   ],
   "source": [
    "dataset.head()"
   ]
  },
  {
   "cell_type": "code",
   "execution_count": 33,
   "metadata": {},
   "outputs": [
    {
     "data": {
      "text/html": [
       "<div>\n",
       "<style scoped>\n",
       "    .dataframe tbody tr th:only-of-type {\n",
       "        vertical-align: middle;\n",
       "    }\n",
       "\n",
       "    .dataframe tbody tr th {\n",
       "        vertical-align: top;\n",
       "    }\n",
       "\n",
       "    .dataframe thead th {\n",
       "        text-align: right;\n",
       "    }\n",
       "</style>\n",
       "<table border=\"1\" class=\"dataframe\">\n",
       "  <thead>\n",
       "    <tr style=\"text-align: right;\">\n",
       "      <th></th>\n",
       "      <th>date</th>\n",
       "      <th>close</th>\n",
       "      <th>open</th>\n",
       "      <th>high</th>\n",
       "      <th>low</th>\n",
       "      <th>gdp</th>\n",
       "      <th>effr</th>\n",
       "      <th>acwi_adj_close</th>\n",
       "    </tr>\n",
       "  </thead>\n",
       "  <tbody>\n",
       "    <tr>\n",
       "      <th>0</th>\n",
       "      <td>2013-11-12</td>\n",
       "      <td>-1.345435</td>\n",
       "      <td>-1.342970</td>\n",
       "      <td>-1.348965</td>\n",
       "      <td>-1.341466</td>\n",
       "      <td>-1.356437</td>\n",
       "      <td>-0.762869</td>\n",
       "      <td>-1.287741</td>\n",
       "    </tr>\n",
       "    <tr>\n",
       "      <th>1</th>\n",
       "      <td>2013-11-13</td>\n",
       "      <td>-1.329387</td>\n",
       "      <td>-1.348735</td>\n",
       "      <td>-1.337583</td>\n",
       "      <td>-1.343330</td>\n",
       "      <td>-1.356437</td>\n",
       "      <td>-0.762869</td>\n",
       "      <td>-1.272056</td>\n",
       "    </tr>\n",
       "    <tr>\n",
       "      <th>2</th>\n",
       "      <td>2013-11-14</td>\n",
       "      <td>-1.319719</td>\n",
       "      <td>-1.328121</td>\n",
       "      <td>-1.326970</td>\n",
       "      <td>-1.321207</td>\n",
       "      <td>-1.356437</td>\n",
       "      <td>-0.756076</td>\n",
       "      <td>-1.259139</td>\n",
       "    </tr>\n",
       "    <tr>\n",
       "      <th>3</th>\n",
       "      <td>2013-11-15</td>\n",
       "      <td>-1.311241</td>\n",
       "      <td>-1.319250</td>\n",
       "      <td>-1.319520</td>\n",
       "      <td>-1.309411</td>\n",
       "      <td>-1.356437</td>\n",
       "      <td>-0.756076</td>\n",
       "      <td>-1.240225</td>\n",
       "    </tr>\n",
       "    <tr>\n",
       "      <th>4</th>\n",
       "      <td>2013-11-18</td>\n",
       "      <td>-1.318699</td>\n",
       "      <td>-1.310099</td>\n",
       "      <td>-1.314943</td>\n",
       "      <td>-1.312417</td>\n",
       "      <td>-1.356437</td>\n",
       "      <td>-0.756076</td>\n",
       "      <td>-1.242993</td>\n",
       "    </tr>\n",
       "  </tbody>\n",
       "</table>\n",
       "</div>"
      ],
      "text/plain": [
       "        date     close      open      high       low       gdp      effr  \\\n",
       "0 2013-11-12 -1.345435 -1.342970 -1.348965 -1.341466 -1.356437 -0.762869   \n",
       "1 2013-11-13 -1.329387 -1.348735 -1.337583 -1.343330 -1.356437 -0.762869   \n",
       "2 2013-11-14 -1.319719 -1.328121 -1.326970 -1.321207 -1.356437 -0.756076   \n",
       "3 2013-11-15 -1.311241 -1.319250 -1.319520 -1.309411 -1.356437 -0.756076   \n",
       "4 2013-11-18 -1.318699 -1.310099 -1.314943 -1.312417 -1.356437 -0.756076   \n",
       "\n",
       "   acwi_adj_close  \n",
       "0       -1.287741  \n",
       "1       -1.272056  \n",
       "2       -1.259139  \n",
       "3       -1.240225  \n",
       "4       -1.242993  "
      ]
     },
     "execution_count": 33,
     "metadata": {},
     "output_type": "execute_result"
    }
   ],
   "source": [
    "\n",
    "dataset = dataset.sort_values(by= \"date\")\n",
    "dataset.head()"
   ]
  },
  {
   "cell_type": "code",
   "execution_count": 34,
   "metadata": {},
   "outputs": [],
   "source": [
    "dataset['increase'] = False\n",
    "for i in range(1, len(dataset)):\n",
    "    if dataset['acwi_adj_close'].iloc[i] > dataset['acwi_adj_close'].iloc[i - 1]:\n",
    "        dataset['increase'].iloc[i] = True\n",
    "dataset['increase'] = dataset['increase'].astype(int)"
   ]
  },
  {
   "cell_type": "code",
   "execution_count": 35,
   "metadata": {},
   "outputs": [
    {
     "data": {
      "text/html": [
       "<div>\n",
       "<style scoped>\n",
       "    .dataframe tbody tr th:only-of-type {\n",
       "        vertical-align: middle;\n",
       "    }\n",
       "\n",
       "    .dataframe tbody tr th {\n",
       "        vertical-align: top;\n",
       "    }\n",
       "\n",
       "    .dataframe thead th {\n",
       "        text-align: right;\n",
       "    }\n",
       "</style>\n",
       "<table border=\"1\" class=\"dataframe\">\n",
       "  <thead>\n",
       "    <tr style=\"text-align: right;\">\n",
       "      <th></th>\n",
       "      <th>date</th>\n",
       "      <th>close</th>\n",
       "      <th>open</th>\n",
       "      <th>high</th>\n",
       "      <th>low</th>\n",
       "      <th>gdp</th>\n",
       "      <th>effr</th>\n",
       "      <th>acwi_adj_close</th>\n",
       "      <th>increase</th>\n",
       "    </tr>\n",
       "  </thead>\n",
       "  <tbody>\n",
       "    <tr>\n",
       "      <th>0</th>\n",
       "      <td>2013-11-12</td>\n",
       "      <td>-1.345435</td>\n",
       "      <td>-1.342970</td>\n",
       "      <td>-1.348965</td>\n",
       "      <td>-1.341466</td>\n",
       "      <td>-1.356437</td>\n",
       "      <td>-0.762869</td>\n",
       "      <td>-1.287741</td>\n",
       "      <td>0</td>\n",
       "    </tr>\n",
       "    <tr>\n",
       "      <th>1</th>\n",
       "      <td>2013-11-13</td>\n",
       "      <td>-1.329387</td>\n",
       "      <td>-1.348735</td>\n",
       "      <td>-1.337583</td>\n",
       "      <td>-1.343330</td>\n",
       "      <td>-1.356437</td>\n",
       "      <td>-0.762869</td>\n",
       "      <td>-1.272056</td>\n",
       "      <td>1</td>\n",
       "    </tr>\n",
       "    <tr>\n",
       "      <th>2</th>\n",
       "      <td>2013-11-14</td>\n",
       "      <td>-1.319719</td>\n",
       "      <td>-1.328121</td>\n",
       "      <td>-1.326970</td>\n",
       "      <td>-1.321207</td>\n",
       "      <td>-1.356437</td>\n",
       "      <td>-0.756076</td>\n",
       "      <td>-1.259139</td>\n",
       "      <td>1</td>\n",
       "    </tr>\n",
       "    <tr>\n",
       "      <th>3</th>\n",
       "      <td>2013-11-15</td>\n",
       "      <td>-1.311241</td>\n",
       "      <td>-1.319250</td>\n",
       "      <td>-1.319520</td>\n",
       "      <td>-1.309411</td>\n",
       "      <td>-1.356437</td>\n",
       "      <td>-0.756076</td>\n",
       "      <td>-1.240225</td>\n",
       "      <td>1</td>\n",
       "    </tr>\n",
       "    <tr>\n",
       "      <th>4</th>\n",
       "      <td>2013-11-18</td>\n",
       "      <td>-1.318699</td>\n",
       "      <td>-1.310099</td>\n",
       "      <td>-1.314943</td>\n",
       "      <td>-1.312417</td>\n",
       "      <td>-1.356437</td>\n",
       "      <td>-0.756076</td>\n",
       "      <td>-1.242993</td>\n",
       "      <td>0</td>\n",
       "    </tr>\n",
       "  </tbody>\n",
       "</table>\n",
       "</div>"
      ],
      "text/plain": [
       "        date     close      open      high       low       gdp      effr  \\\n",
       "0 2013-11-12 -1.345435 -1.342970 -1.348965 -1.341466 -1.356437 -0.762869   \n",
       "1 2013-11-13 -1.329387 -1.348735 -1.337583 -1.343330 -1.356437 -0.762869   \n",
       "2 2013-11-14 -1.319719 -1.328121 -1.326970 -1.321207 -1.356437 -0.756076   \n",
       "3 2013-11-15 -1.311241 -1.319250 -1.319520 -1.309411 -1.356437 -0.756076   \n",
       "4 2013-11-18 -1.318699 -1.310099 -1.314943 -1.312417 -1.356437 -0.756076   \n",
       "\n",
       "   acwi_adj_close  increase  \n",
       "0       -1.287741         0  \n",
       "1       -1.272056         1  \n",
       "2       -1.259139         1  \n",
       "3       -1.240225         1  \n",
       "4       -1.242993         0  "
      ]
     },
     "execution_count": 35,
     "metadata": {},
     "output_type": "execute_result"
    }
   ],
   "source": [
    "dataset.head()"
   ]
  },
  {
   "cell_type": "code",
   "execution_count": 36,
   "metadata": {},
   "outputs": [],
   "source": [
    "feature_col = ['open', 'high', 'effr', 'low', 'gdp', 'acwi_adj_close']\n",
    "x= dataset[feature_col]\n",
    "y= dataset['increase']"
   ]
  },
  {
   "cell_type": "code",
   "execution_count": 37,
   "metadata": {},
   "outputs": [
    {
     "name": "stdout",
     "output_type": "stream",
     "text": [
      "Optimization terminated successfully.\n",
      "         Current function value: 0.447026\n",
      "         Iterations 8\n"
     ]
    },
    {
     "data": {
      "text/html": [
       "<table class=\"simpletable\">\n",
       "<caption>Logit Regression Results</caption>\n",
       "<tr>\n",
       "  <th>Dep. Variable:</th>       <td>increase</td>     <th>  No. Observations:  </th>   <td>  2498</td>  \n",
       "</tr>\n",
       "<tr>\n",
       "  <th>Model:</th>                 <td>Logit</td>      <th>  Df Residuals:      </th>   <td>  2491</td>  \n",
       "</tr>\n",
       "<tr>\n",
       "  <th>Method:</th>                 <td>MLE</td>       <th>  Df Model:          </th>   <td>     6</td>  \n",
       "</tr>\n",
       "<tr>\n",
       "  <th>Date:</th>            <td>Wed, 22 Nov 2023</td> <th>  Pseudo R-squ.:     </th>   <td>0.3520</td>  \n",
       "</tr>\n",
       "<tr>\n",
       "  <th>Time:</th>                <td>20:21:32</td>     <th>  Log-Likelihood:    </th>  <td> -1116.7</td> \n",
       "</tr>\n",
       "<tr>\n",
       "  <th>converged:</th>             <td>True</td>       <th>  LL-Null:           </th>  <td> -1723.1</td> \n",
       "</tr>\n",
       "<tr>\n",
       "  <th>Covariance Type:</th>     <td>nonrobust</td>    <th>  LLR p-value:       </th> <td>7.572e-259</td>\n",
       "</tr>\n",
       "</table>\n",
       "<table class=\"simpletable\">\n",
       "<tr>\n",
       "         <td></td>           <th>coef</th>     <th>std err</th>      <th>z</th>      <th>P>|z|</th>  <th>[0.025</th>    <th>0.975]</th>  \n",
       "</tr>\n",
       "<tr>\n",
       "  <th>Intercept</th>      <td>    0.1691</td> <td>    0.061</td> <td>    2.782</td> <td> 0.005</td> <td>    0.050</td> <td>    0.288</td>\n",
       "</tr>\n",
       "<tr>\n",
       "  <th>open</th>           <td> -159.3939</td> <td>    7.239</td> <td>  -22.017</td> <td> 0.000</td> <td> -173.583</td> <td> -145.205</td>\n",
       "</tr>\n",
       "<tr>\n",
       "  <th>high</th>           <td>   80.7166</td> <td>    5.424</td> <td>   14.883</td> <td> 0.000</td> <td>   70.087</td> <td>   91.347</td>\n",
       "</tr>\n",
       "<tr>\n",
       "  <th>effr</th>           <td>   -0.0553</td> <td>    0.153</td> <td>   -0.360</td> <td> 0.719</td> <td>   -0.356</td> <td>    0.246</td>\n",
       "</tr>\n",
       "<tr>\n",
       "  <th>low</th>            <td>   74.7371</td> <td>    4.613</td> <td>   16.200</td> <td> 0.000</td> <td>   65.695</td> <td>   83.779</td>\n",
       "</tr>\n",
       "<tr>\n",
       "  <th>gdp</th>            <td>    0.3304</td> <td>    0.455</td> <td>    0.727</td> <td> 0.467</td> <td>   -0.561</td> <td>    1.221</td>\n",
       "</tr>\n",
       "<tr>\n",
       "  <th>acwi_adj_close</th> <td>    3.6860</td> <td>    0.736</td> <td>    5.011</td> <td> 0.000</td> <td>    2.244</td> <td>    5.128</td>\n",
       "</tr>\n",
       "</table>"
      ],
      "text/plain": [
       "<class 'statsmodels.iolib.summary.Summary'>\n",
       "\"\"\"\n",
       "                           Logit Regression Results                           \n",
       "==============================================================================\n",
       "Dep. Variable:               increase   No. Observations:                 2498\n",
       "Model:                          Logit   Df Residuals:                     2491\n",
       "Method:                           MLE   Df Model:                            6\n",
       "Date:                Wed, 22 Nov 2023   Pseudo R-squ.:                  0.3520\n",
       "Time:                        20:21:32   Log-Likelihood:                -1116.7\n",
       "converged:                       True   LL-Null:                       -1723.1\n",
       "Covariance Type:            nonrobust   LLR p-value:                7.572e-259\n",
       "==================================================================================\n",
       "                     coef    std err          z      P>|z|      [0.025      0.975]\n",
       "----------------------------------------------------------------------------------\n",
       "Intercept          0.1691      0.061      2.782      0.005       0.050       0.288\n",
       "open            -159.3939      7.239    -22.017      0.000    -173.583    -145.205\n",
       "high              80.7166      5.424     14.883      0.000      70.087      91.347\n",
       "effr              -0.0553      0.153     -0.360      0.719      -0.356       0.246\n",
       "low               74.7371      4.613     16.200      0.000      65.695      83.779\n",
       "gdp                0.3304      0.455      0.727      0.467      -0.561       1.221\n",
       "acwi_adj_close     3.6860      0.736      5.011      0.000       2.244       5.128\n",
       "==================================================================================\n",
       "\"\"\""
      ]
     },
     "execution_count": 37,
     "metadata": {},
     "output_type": "execute_result"
    }
   ],
   "source": [
    "import statsmodels.formula.api as smf\n",
    "log_mod_full = smf.logit(formula='increase~open+high+effr+low+gdp+acwi_adj_close', data=dataset).fit()\n",
    "log_mod_full.summary()"
   ]
  },
  {
   "cell_type": "code",
   "execution_count": 38,
   "metadata": {},
   "outputs": [],
   "source": [
    "from sklearn.model_selection import train_test_split\n",
    "\n",
    "X_train, X_test, y_train, y_test = train_test_split(x, y, test_size=0.25, random_state=16)"
   ]
  },
  {
   "cell_type": "code",
   "execution_count": 39,
   "metadata": {},
   "outputs": [],
   "source": [
    "from sklearn.linear_model import LogisticRegression\n",
    "\n",
    "\n",
    "logreg = LogisticRegression(random_state=16)\n",
    "logreg.fit(X_train, y_train)\n",
    "y_pred = logreg.predict(X_test)\n"
   ]
  },
  {
   "cell_type": "code",
   "execution_count": 40,
   "metadata": {},
   "outputs": [
    {
     "data": {
      "text/plain": [
       "array([[117, 178],\n",
       "       [ 61, 269]], dtype=int64)"
      ]
     },
     "execution_count": 40,
     "metadata": {},
     "output_type": "execute_result"
    }
   ],
   "source": [
    "from sklearn import metrics\n",
    "\n",
    "cnf_matrix = metrics.confusion_matrix(y_test, y_pred)\n",
    "cnf_matrix"
   ]
  },
  {
   "cell_type": "code",
   "execution_count": 41,
   "metadata": {},
   "outputs": [
    {
     "name": "stdout",
     "output_type": "stream",
     "text": [
      "Coefficients: [[-6.33018026  0.46761162 -0.08043321  2.22308747  0.43884825  3.27290028]]\n",
      "Intercept: [0.18356843]\n",
      "AUC: 0.7052593733949666\n"
     ]
    }
   ],
   "source": [
    "y_pred_proba = logreg.predict_proba(X_test)[:, 1]\n",
    "\n",
    "coefficients = logreg.coef_\n",
    "intercept = logreg.intercept_\n",
    "\n",
    "from sklearn.metrics import roc_auc_score\n",
    "auc_roc = roc_auc_score(y_test, y_pred_proba)\n",
    "\n",
    "print(\"Coefficients:\", coefficients)\n",
    "print(\"Intercept:\", intercept)\n",
    "print(\"AUC:\", auc_roc)"
   ]
  },
  {
   "cell_type": "markdown",
   "metadata": {},
   "source": [
    "The AUC shows that the the model has fairly accurate predictions however it is not the greatest since it is not within the ideal 0.8-0.9 range."
   ]
  }
 ],
 "metadata": {
  "kernelspec": {
   "display_name": "Python 3",
   "language": "python",
   "name": "python3"
  },
  "language_info": {
   "codemirror_mode": {
    "name": "ipython",
    "version": 3
   },
   "file_extension": ".py",
   "mimetype": "text/x-python",
   "name": "python",
   "nbconvert_exporter": "python",
   "pygments_lexer": "ipython3",
   "version": "3.10.1"
  }
 },
 "nbformat": 4,
 "nbformat_minor": 2
}
