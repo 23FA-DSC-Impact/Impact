{
 "cells": [
  {
   "cell_type": "code",
   "execution_count": 1,
   "metadata": {},
   "outputs": [],
   "source": [
    "import numpy as np\n",
    "import pandas as pd\n",
    "import os"
   ]
  },
  {
   "cell_type": "markdown",
   "metadata": {},
   "source": [
    "# Read raw data"
   ]
  },
  {
   "cell_type": "code",
   "execution_count": 2,
   "metadata": {},
   "outputs": [],
   "source": [
    "dir_main = os.getcwd()\n",
    "dir_raw_data = os.path.join(dir_main, \"dataset\", \"raw\")"
   ]
  },
  {
   "cell_type": "markdown",
   "metadata": {},
   "source": [
    "## S&P500"
   ]
  },
  {
   "cell_type": "code",
   "execution_count": 3,
   "metadata": {},
   "outputs": [],
   "source": [
    "sp = pd.read_csv(os.path.join(dir_raw_data, \"sp500.csv\"),\n",
    "                sep=\",\",\n",
    "                header=0,\n",
    "                dtype={\"Date\": object, \"Close/Last\": float,\n",
    "                       \"Open\": float, \"High\": float, \"Low\": float})"
   ]
  },
  {
   "cell_type": "code",
   "execution_count": 4,
   "metadata": {},
   "outputs": [],
   "source": [
    "# Rename columns for readability\n",
    "sp.rename(columns={\"Date\": 'date', \"Close/Last\": 'close',\n",
    "                   \"Open\": 'open', \"High\": 'high', \"Low\": 'low'},\n",
    "                   inplace=True)\n",
    "\n",
    "# Set date column's data type\n",
    "sp['date'] = pd.to_datetime(sp['date'])\n",
    "\n",
    "# Sort rows by ascending order of date\n",
    "sp = sp.sort_values('date')"
   ]
  },
  {
   "cell_type": "code",
   "execution_count": 5,
   "metadata": {},
   "outputs": [
    {
     "name": "stdout",
     "output_type": "stream",
     "text": [
      "<class 'pandas.core.frame.DataFrame'>\n",
      "Index: 2538 entries, 2537 to 0\n",
      "Data columns (total 5 columns):\n",
      " #   Column  Non-Null Count  Dtype         \n",
      "---  ------  --------------  -----         \n",
      " 0   date    2538 non-null   datetime64[ns]\n",
      " 1   close   2538 non-null   float64       \n",
      " 2   open    2538 non-null   float64       \n",
      " 3   high    2538 non-null   float64       \n",
      " 4   low     2538 non-null   float64       \n",
      "dtypes: datetime64[ns](1), float64(4)\n",
      "memory usage: 119.0 KB\n"
     ]
    }
   ],
   "source": [
    "# Count null values\n",
    "sp.info()"
   ]
  },
  {
   "cell_type": "code",
   "execution_count": 6,
   "metadata": {},
   "outputs": [
    {
     "name": "stdout",
     "output_type": "stream",
     "text": [
      "First date:\t2013-11-11 00:00:00\n",
      "Latest date:\t2023-11-10 00:00:00\n"
     ]
    }
   ],
   "source": [
    "# Confirm first and last date\n",
    "print(\"First date:\\t\", sp['date'].iloc[0], sep=\"\")\n",
    "print(\"Latest date:\\t\", sp['date'].iloc[-1], sep=\"\")"
   ]
  },
  {
   "cell_type": "markdown",
   "metadata": {},
   "source": [
    "## Effective Federal Reserve Fund Rate"
   ]
  },
  {
   "cell_type": "code",
   "execution_count": 7,
   "metadata": {},
   "outputs": [],
   "source": [
    "effr = pd.read_csv(os.path.join(dir_raw_data, \"EFFR.csv\"),\n",
    "                   sep=\",\",\n",
    "                   header=0,\n",
    "                   dtype={\"DATE\": object, \"EFFR\": float},\n",
    "                   na_values=[\".\"]\n",
    "                   )"
   ]
  },
  {
   "cell_type": "code",
   "execution_count": 8,
   "metadata": {},
   "outputs": [],
   "source": [
    "# Rename columns for readability\n",
    "effr.rename(columns={\"DATE\": 'date', \"EFFR\": 'effr'}, inplace=True)\n",
    "\n",
    "# Set date column's data type\n",
    "effr['date'] = pd.to_datetime(effr['date'])\n",
    "\n",
    "# Sort rows by ascending order of date\n",
    "effr = effr.sort_values('date')"
   ]
  },
  {
   "cell_type": "code",
   "execution_count": 9,
   "metadata": {},
   "outputs": [
    {
     "name": "stdout",
     "output_type": "stream",
     "text": [
      "<class 'pandas.core.frame.DataFrame'>\n",
      "RangeIndex: 2608 entries, 0 to 2607\n",
      "Data columns (total 2 columns):\n",
      " #   Column  Non-Null Count  Dtype         \n",
      "---  ------  --------------  -----         \n",
      " 0   date    2608 non-null   datetime64[ns]\n",
      " 1   effr    2512 non-null   float64       \n",
      "dtypes: datetime64[ns](1), float64(1)\n",
      "memory usage: 40.9 KB\n"
     ]
    }
   ],
   "source": [
    "# Count null values\n",
    "effr.info()"
   ]
  },
  {
   "cell_type": "code",
   "execution_count": 10,
   "metadata": {},
   "outputs": [],
   "source": [
    "# Get list of null dates\n",
    "null_dates = effr['date'][effr['effr'].isna()]"
   ]
  },
  {
   "cell_type": "code",
   "execution_count": 11,
   "metadata": {},
   "outputs": [
    {
     "name": "stdout",
     "output_type": "stream",
     "text": [
      "First date:\t2013-11-12 00:00:00\n",
      "Latest date:\t2023-11-09 00:00:00\n"
     ]
    }
   ],
   "source": [
    "# Confirm first and last date\n",
    "print(\"First date:\\t\", effr['date'].iloc[0], sep=\"\")\n",
    "print(\"Latest date:\\t\", effr['date'].iloc[-1], sep=\"\")"
   ]
  },
  {
   "cell_type": "markdown",
   "metadata": {},
   "source": [
    "## US GDP"
   ]
  },
  {
   "cell_type": "code",
   "execution_count": 12,
   "metadata": {},
   "outputs": [],
   "source": [
    "gdp = pd.read_csv(os.path.join(dir_raw_data, \"GDP.csv\"),\n",
    "                  sep=\",\",\n",
    "                  header=0,\n",
    "                  dtype={\"DATE\": object, \"GDP\": float})"
   ]
  },
  {
   "cell_type": "code",
   "execution_count": 13,
   "metadata": {},
   "outputs": [],
   "source": [
    "# Rename columns for readability\n",
    "gdp.rename(columns={\"DATE\": \"date\", \"GDP\": \"gdp\"}, inplace=True)\n",
    "\n",
    "# Set date column's data type\n",
    "gdp['date'] = pd.to_datetime(gdp['date'])\n",
    "\n",
    "# Sort rows by ascending order of date\n",
    "gdp = gdp.sort_values('date')"
   ]
  },
  {
   "cell_type": "code",
   "execution_count": 14,
   "metadata": {},
   "outputs": [
    {
     "name": "stdout",
     "output_type": "stream",
     "text": [
      "<class 'pandas.core.frame.DataFrame'>\n",
      "RangeIndex: 40 entries, 0 to 39\n",
      "Data columns (total 2 columns):\n",
      " #   Column  Non-Null Count  Dtype         \n",
      "---  ------  --------------  -----         \n",
      " 0   date    40 non-null     datetime64[ns]\n",
      " 1   gdp     40 non-null     float64       \n",
      "dtypes: datetime64[ns](1), float64(1)\n",
      "memory usage: 768.0 bytes\n"
     ]
    }
   ],
   "source": [
    "# Count null values\n",
    "gdp.info()"
   ]
  },
  {
   "cell_type": "code",
   "execution_count": 15,
   "metadata": {},
   "outputs": [
    {
     "name": "stdout",
     "output_type": "stream",
     "text": [
      "First date:\t2013-10-01 00:00:00\n",
      "Latest date:\t2023-07-01 00:00:00\n"
     ]
    }
   ],
   "source": [
    "# Confirm first and last date\n",
    "print(\"First date:\\t\", gdp['date'].iloc[0], sep=\"\")\n",
    "print(\"Latest date:\\t\", gdp['date'].iloc[-1], sep=\"\")"
   ]
  },
  {
   "cell_type": "markdown",
   "metadata": {},
   "source": [
    "## MSCI ACWI ETF"
   ]
  },
  {
   "cell_type": "code",
   "execution_count": 16,
   "metadata": {},
   "outputs": [],
   "source": [
    "acwi = pd.read_csv(os.path.join(dir_raw_data, \"ACWI.csv\"),\n",
    "                  sep=\",\",\n",
    "                  header=0,\n",
    "                  dtype={\"Date\": object, \"Open\": float, \"High\": float,\n",
    "                         \"Low\": float, \"Close\": float,\n",
    "                         \"Adj Close\": float, \"Volume\": float})"
   ]
  },
  {
   "cell_type": "code",
   "execution_count": 17,
   "metadata": {},
   "outputs": [],
   "source": [
    "# Remove unnecessary columns\n",
    "acwi = acwi[['Date', 'Adj Close']]\n",
    "\n",
    "# Rename columns for readability\n",
    "acwi.rename(columns={\"Date\": \"date\", \"Adj Close\": \"acwi_adj_close\"}, inplace=True)\n",
    "\n",
    "# Set date column's data type\n",
    "acwi['date'] = pd.to_datetime(acwi['date'])\n",
    "\n",
    "# Sort rows by ascending order of date\n",
    "acwi = acwi.sort_values('date')"
   ]
  },
  {
   "cell_type": "code",
   "execution_count": 18,
   "metadata": {},
   "outputs": [
    {
     "name": "stdout",
     "output_type": "stream",
     "text": [
      "<class 'pandas.core.frame.DataFrame'>\n",
      "RangeIndex: 2547 entries, 0 to 2546\n",
      "Data columns (total 2 columns):\n",
      " #   Column          Non-Null Count  Dtype         \n",
      "---  ------          --------------  -----         \n",
      " 0   date            2547 non-null   datetime64[ns]\n",
      " 1   acwi_adj_close  2547 non-null   float64       \n",
      "dtypes: datetime64[ns](1), float64(1)\n",
      "memory usage: 39.9 KB\n"
     ]
    }
   ],
   "source": [
    "acwi.info()"
   ]
  },
  {
   "cell_type": "code",
   "execution_count": 19,
   "metadata": {},
   "outputs": [
    {
     "name": "stdout",
     "output_type": "stream",
     "text": [
      "First date:\t2013-10-01 00:00:00\n",
      "Latest date:\t2023-11-10 00:00:00\n"
     ]
    }
   ],
   "source": [
    "# Confirm first and last date\n",
    "print(\"First date:\\t\", acwi['date'].iloc[0], sep=\"\")\n",
    "print(\"Latest date:\\t\", acwi['date'].iloc[-1], sep=\"\")"
   ]
  },
  {
   "cell_type": "markdown",
   "metadata": {},
   "source": [
    "## Dataset summary"
   ]
  },
  {
   "cell_type": "markdown",
   "metadata": {},
   "source": [
    "#### S&P500 Dataset\n",
    "* 2538 rows\n",
    "* From `2013-11-11` to `2023-11-10`\n",
    "* `Daily` basis\n",
    "* Schema: `['date', 'close', 'open', 'high', 'low']`\n",
    "* no null value"
   ]
  },
  {
   "cell_type": "markdown",
   "metadata": {},
   "source": [
    "#### Effective Federal Reserve Fund Rate\n",
    "* 2608 rows\n",
    "* From `2013-11-12` to `2023-11-09`\n",
    "* `Daily` basis\n",
    "* Schema: `['date', 'effr']`\n",
    "* effr has 96 null values for holidays or other days.\n",
    "    * These dates will be removed from every datasets."
   ]
  },
  {
   "cell_type": "markdown",
   "metadata": {},
   "source": [
    "#### US GDP\n",
    "* 40 rows\n",
    "* From `2013-10-01` to `2023-07-01`\n",
    "* `Quarterly` basis\n",
    "    * Latest quarterly GDP value will be used for each given date.\n",
    "* Schema: `['date', 'gdp']`\n",
    "* no null value"
   ]
  },
  {
   "cell_type": "markdown",
   "metadata": {},
   "source": [
    "#### MSCI ACWI ETF\n",
    "* 2547 rows\n",
    "* From `2013-10-01` to `2023-11-10`\n",
    "* `Daily` basis\n",
    "* Schema: `['date', 'acwi_adj_close']`\n",
    "* no null value"
   ]
  },
  {
   "cell_type": "markdown",
   "metadata": {},
   "source": [
    "# Combine(Join) Dataset"
   ]
  },
  {
   "cell_type": "markdown",
   "metadata": {},
   "source": [
    "## Schema of cleaned data\n",
    "`['date', 'close', 'open', 'high', 'low', 'effr', 'gdp', 'acwi_adj_close']`\n",
    "* `date`: every date in `S&P500`, but from `2013-11-12` to `2023-11-09`\n",
    "    * The earliest and latest dates are bounded by EFFR data\n",
    "* `close`, `open`, `high`, `low`: data from `S&P500`\n",
    "* `effr`: data from `Effective Federal Reserve Fund Rate`\n",
    "* `gdp`: data from `US GDP`\n",
    "* `acwi_adj_close`: Adjusted closing price from `Adjusted Close` in `MSCI ACWI`\n"
   ]
  },
  {
   "cell_type": "code",
   "execution_count": 20,
   "metadata": {},
   "outputs": [],
   "source": [
    "# Generate valid date pd.series\n",
    "valid_date = sp['date']\n",
    "mask_validDate = (valid_date >= pd.to_datetime('2013-11-12')) &\\\n",
    "                 (valid_date <= pd.to_datetime('2023-11-09')) &\\\n",
    "                 (~valid_date.isin(null_dates))\n",
    "valid_date = valid_date[mask_validDate]"
   ]
  },
  {
   "cell_type": "code",
   "execution_count": 21,
   "metadata": {},
   "outputs": [],
   "source": [
    "# Change US GDP from quarterly to daily values\n"
   ]
  },
  {
   "cell_type": "code",
   "execution_count": 22,
   "metadata": {},
   "outputs": [],
   "source": [
    "# Merge with S&P500\n",
    "dataset = pd.merge(valid_date, sp, on='date', how='inner')\n",
    "\n",
    "# Merge with US GDP; apply latest quarterly GDP at any given date\n",
    "dataset = pd.merge_asof(dataset, gdp, on='date', direction='backward')\n",
    "\n",
    "# Merge with Effective Federal Fund Rate\n",
    "dataset = pd.merge(dataset, effr, on='date', how='inner')\n",
    "\n",
    "# Merge with MSCI ACWI ETF\n",
    "dataset = pd.merge(dataset, acwi, on='date', how='inner')"
   ]
  },
  {
   "cell_type": "code",
   "execution_count": 23,
   "metadata": {},
   "outputs": [
    {
     "name": "stdout",
     "output_type": "stream",
     "text": [
      "<class 'pandas.core.frame.DataFrame'>\n",
      "RangeIndex: 2498 entries, 0 to 2497\n",
      "Data columns (total 8 columns):\n",
      " #   Column          Non-Null Count  Dtype         \n",
      "---  ------          --------------  -----         \n",
      " 0   date            2498 non-null   datetime64[ns]\n",
      " 1   close           2498 non-null   float64       \n",
      " 2   open            2498 non-null   float64       \n",
      " 3   high            2498 non-null   float64       \n",
      " 4   low             2498 non-null   float64       \n",
      " 5   gdp             2498 non-null   float64       \n",
      " 6   effr            2498 non-null   float64       \n",
      " 7   acwi_adj_close  2498 non-null   float64       \n",
      "dtypes: datetime64[ns](1), float64(7)\n",
      "memory usage: 156.2 KB\n"
     ]
    }
   ],
   "source": [
    "dataset.info()"
   ]
  },
  {
   "cell_type": "code",
   "execution_count": 24,
   "metadata": {},
   "outputs": [
    {
     "data": {
      "text/html": [
       "<div>\n",
       "<style scoped>\n",
       "    .dataframe tbody tr th:only-of-type {\n",
       "        vertical-align: middle;\n",
       "    }\n",
       "\n",
       "    .dataframe tbody tr th {\n",
       "        vertical-align: top;\n",
       "    }\n",
       "\n",
       "    .dataframe thead th {\n",
       "        text-align: right;\n",
       "    }\n",
       "</style>\n",
       "<table border=\"1\" class=\"dataframe\">\n",
       "  <thead>\n",
       "    <tr style=\"text-align: right;\">\n",
       "      <th></th>\n",
       "      <th>date</th>\n",
       "      <th>close</th>\n",
       "      <th>open</th>\n",
       "      <th>high</th>\n",
       "      <th>low</th>\n",
       "      <th>gdp</th>\n",
       "      <th>effr</th>\n",
       "      <th>acwi_adj_close</th>\n",
       "    </tr>\n",
       "  </thead>\n",
       "  <tbody>\n",
       "    <tr>\n",
       "      <th>0</th>\n",
       "      <td>2013-11-12</td>\n",
       "      <td>1767.69</td>\n",
       "      <td>1769.51</td>\n",
       "      <td>1771.78</td>\n",
       "      <td>1762.29</td>\n",
       "      <td>17192.019</td>\n",
       "      <td>0.08</td>\n",
       "      <td>45.497810</td>\n",
       "    </tr>\n",
       "    <tr>\n",
       "      <th>1</th>\n",
       "      <td>2013-11-13</td>\n",
       "      <td>1782.00</td>\n",
       "      <td>1764.37</td>\n",
       "      <td>1782.00</td>\n",
       "      <td>1760.64</td>\n",
       "      <td>17192.019</td>\n",
       "      <td>0.08</td>\n",
       "      <td>45.775047</td>\n",
       "    </tr>\n",
       "    <tr>\n",
       "      <th>2</th>\n",
       "      <td>2013-11-14</td>\n",
       "      <td>1790.62</td>\n",
       "      <td>1782.75</td>\n",
       "      <td>1791.53</td>\n",
       "      <td>1780.22</td>\n",
       "      <td>17192.019</td>\n",
       "      <td>0.09</td>\n",
       "      <td>46.003345</td>\n",
       "    </tr>\n",
       "    <tr>\n",
       "      <th>3</th>\n",
       "      <td>2013-11-15</td>\n",
       "      <td>1798.18</td>\n",
       "      <td>1790.66</td>\n",
       "      <td>1798.22</td>\n",
       "      <td>1790.66</td>\n",
       "      <td>17192.019</td>\n",
       "      <td>0.09</td>\n",
       "      <td>46.337654</td>\n",
       "    </tr>\n",
       "    <tr>\n",
       "      <th>4</th>\n",
       "      <td>2013-11-18</td>\n",
       "      <td>1791.53</td>\n",
       "      <td>1798.82</td>\n",
       "      <td>1802.33</td>\n",
       "      <td>1788.00</td>\n",
       "      <td>17192.019</td>\n",
       "      <td>0.09</td>\n",
       "      <td>46.288723</td>\n",
       "    </tr>\n",
       "  </tbody>\n",
       "</table>\n",
       "</div>"
      ],
      "text/plain": [
       "        date    close     open     high      low        gdp  effr  \\\n",
       "0 2013-11-12  1767.69  1769.51  1771.78  1762.29  17192.019  0.08   \n",
       "1 2013-11-13  1782.00  1764.37  1782.00  1760.64  17192.019  0.08   \n",
       "2 2013-11-14  1790.62  1782.75  1791.53  1780.22  17192.019  0.09   \n",
       "3 2013-11-15  1798.18  1790.66  1798.22  1790.66  17192.019  0.09   \n",
       "4 2013-11-18  1791.53  1798.82  1802.33  1788.00  17192.019  0.09   \n",
       "\n",
       "   acwi_adj_close  \n",
       "0       45.497810  \n",
       "1       45.775047  \n",
       "2       46.003345  \n",
       "3       46.337654  \n",
       "4       46.288723  "
      ]
     },
     "execution_count": 24,
     "metadata": {},
     "output_type": "execute_result"
    }
   ],
   "source": [
    "dataset.head()"
   ]
  },
  {
   "cell_type": "code",
   "execution_count": 25,
   "metadata": {},
   "outputs": [
    {
     "data": {
      "text/html": [
       "<div>\n",
       "<style scoped>\n",
       "    .dataframe tbody tr th:only-of-type {\n",
       "        vertical-align: middle;\n",
       "    }\n",
       "\n",
       "    .dataframe tbody tr th {\n",
       "        vertical-align: top;\n",
       "    }\n",
       "\n",
       "    .dataframe thead th {\n",
       "        text-align: right;\n",
       "    }\n",
       "</style>\n",
       "<table border=\"1\" class=\"dataframe\">\n",
       "  <thead>\n",
       "    <tr style=\"text-align: right;\">\n",
       "      <th></th>\n",
       "      <th>date</th>\n",
       "      <th>close</th>\n",
       "      <th>open</th>\n",
       "      <th>high</th>\n",
       "      <th>low</th>\n",
       "      <th>gdp</th>\n",
       "      <th>effr</th>\n",
       "      <th>acwi_adj_close</th>\n",
       "    </tr>\n",
       "  </thead>\n",
       "  <tbody>\n",
       "    <tr>\n",
       "      <th>2493</th>\n",
       "      <td>2023-11-03</td>\n",
       "      <td>4358.34</td>\n",
       "      <td>4334.23</td>\n",
       "      <td>4373.62</td>\n",
       "      <td>4334.23</td>\n",
       "      <td>27623.543</td>\n",
       "      <td>5.33</td>\n",
       "      <td>93.790001</td>\n",
       "    </tr>\n",
       "    <tr>\n",
       "      <th>2494</th>\n",
       "      <td>2023-11-06</td>\n",
       "      <td>4365.98</td>\n",
       "      <td>4364.27</td>\n",
       "      <td>4372.21</td>\n",
       "      <td>4347.53</td>\n",
       "      <td>27623.543</td>\n",
       "      <td>5.33</td>\n",
       "      <td>93.870003</td>\n",
       "    </tr>\n",
       "    <tr>\n",
       "      <th>2495</th>\n",
       "      <td>2023-11-07</td>\n",
       "      <td>4378.38</td>\n",
       "      <td>4366.21</td>\n",
       "      <td>4386.26</td>\n",
       "      <td>4355.41</td>\n",
       "      <td>27623.543</td>\n",
       "      <td>5.33</td>\n",
       "      <td>93.820000</td>\n",
       "    </tr>\n",
       "    <tr>\n",
       "      <th>2496</th>\n",
       "      <td>2023-11-08</td>\n",
       "      <td>4382.78</td>\n",
       "      <td>4384.37</td>\n",
       "      <td>4391.20</td>\n",
       "      <td>4359.76</td>\n",
       "      <td>27623.543</td>\n",
       "      <td>5.33</td>\n",
       "      <td>93.800003</td>\n",
       "    </tr>\n",
       "    <tr>\n",
       "      <th>2497</th>\n",
       "      <td>2023-11-09</td>\n",
       "      <td>4347.35</td>\n",
       "      <td>4391.41</td>\n",
       "      <td>4393.40</td>\n",
       "      <td>4343.94</td>\n",
       "      <td>27623.543</td>\n",
       "      <td>5.33</td>\n",
       "      <td>93.239998</td>\n",
       "    </tr>\n",
       "  </tbody>\n",
       "</table>\n",
       "</div>"
      ],
      "text/plain": [
       "           date    close     open     high      low        gdp  effr  \\\n",
       "2493 2023-11-03  4358.34  4334.23  4373.62  4334.23  27623.543  5.33   \n",
       "2494 2023-11-06  4365.98  4364.27  4372.21  4347.53  27623.543  5.33   \n",
       "2495 2023-11-07  4378.38  4366.21  4386.26  4355.41  27623.543  5.33   \n",
       "2496 2023-11-08  4382.78  4384.37  4391.20  4359.76  27623.543  5.33   \n",
       "2497 2023-11-09  4347.35  4391.41  4393.40  4343.94  27623.543  5.33   \n",
       "\n",
       "      acwi_adj_close  \n",
       "2493       93.790001  \n",
       "2494       93.870003  \n",
       "2495       93.820000  \n",
       "2496       93.800003  \n",
       "2497       93.239998  "
      ]
     },
     "execution_count": 25,
     "metadata": {},
     "output_type": "execute_result"
    }
   ],
   "source": [
    "dataset.tail()"
   ]
  },
  {
   "cell_type": "markdown",
   "metadata": {},
   "source": [
    "## Save dataset"
   ]
  },
  {
   "cell_type": "code",
   "execution_count": 26,
   "metadata": {},
   "outputs": [],
   "source": [
    "dir_prepared_data = os.path.join(dir_main, \"dataset\", \"prepared\")\n",
    "dataset.to_csv(os.path.join(dir_prepared_data, \"dataset.csv\"),\n",
    "               index=False)"
   ]
  },
  {
   "cell_type": "markdown",
   "metadata": {},
   "source": [
    "## Read dataset"
   ]
  },
  {
   "cell_type": "code",
   "execution_count": 27,
   "metadata": {},
   "outputs": [
    {
     "name": "stdout",
     "output_type": "stream",
     "text": [
      "<class 'pandas.core.frame.DataFrame'>\n",
      "RangeIndex: 2498 entries, 0 to 2497\n",
      "Data columns (total 8 columns):\n",
      " #   Column          Non-Null Count  Dtype         \n",
      "---  ------          --------------  -----         \n",
      " 0   date            2498 non-null   datetime64[ns]\n",
      " 1   close           2498 non-null   float64       \n",
      " 2   open            2498 non-null   float64       \n",
      " 3   high            2498 non-null   float64       \n",
      " 4   low             2498 non-null   float64       \n",
      " 5   gdp             2498 non-null   float64       \n",
      " 6   effr            2498 non-null   float64       \n",
      " 7   acwi_adj_close  2498 non-null   float64       \n",
      "dtypes: datetime64[ns](1), float64(7)\n",
      "memory usage: 156.2 KB\n"
     ]
    }
   ],
   "source": [
    "dataset = pd.read_csv(os.path.join(dir_prepared_data, \"dataset.csv\"),\n",
    "                      sep=\",\",\n",
    "                      header=0,\n",
    "                      dtype={\"date\": object, \"close\": float, \"open\": float,\n",
    "                             \"high\": float, \"low\": float,\n",
    "                             \"gdp\": float, \"effr\": float,\n",
    "                             \"acwi_adj_close\": float})\n",
    "dataset['date'] = pd.to_datetime(dataset['date'])\n",
    "dataset.info()"
   ]
  }
 ],
 "metadata": {
  "kernelspec": {
   "display_name": "python310",
   "language": "python",
   "name": "python3"
  },
  "language_info": {
   "codemirror_mode": {
    "name": "ipython",
    "version": 3
   },
   "file_extension": ".py",
   "mimetype": "text/x-python",
   "name": "python",
   "nbconvert_exporter": "python",
   "pygments_lexer": "ipython3",
   "version": "3.10.9"
  }
 },
 "nbformat": 4,
 "nbformat_minor": 2
}
