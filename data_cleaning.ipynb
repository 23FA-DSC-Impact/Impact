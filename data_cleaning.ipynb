{
 "cells": [
  {
   "cell_type": "code",
   "execution_count": 1,
   "metadata": {},
   "outputs": [],
   "source": [
    "import numpy as np\n",
    "import pandas as pd\n",
    "import os"
   ]
  },
  {
   "cell_type": "code",
   "execution_count": 2,
   "metadata": {},
   "outputs": [],
   "source": [
    "import warnings\n",
    "warnings.filterwarnings(\"ignore\")"
   ]
  },
  {
   "cell_type": "markdown",
   "metadata": {},
   "source": [
    "# Read raw data"
   ]
  },
  {
   "cell_type": "code",
   "execution_count": 3,
   "metadata": {},
   "outputs": [],
   "source": [
    "dir_main = os.getcwd()\n",
    "dir_raw_data = os.path.join(dir_main, \"dataset\", \"raw\")"
   ]
  },
  {
   "cell_type": "markdown",
   "metadata": {},
   "source": [
    "## S&P500"
   ]
  },
  {
   "cell_type": "code",
   "execution_count": 4,
   "metadata": {},
   "outputs": [],
   "source": [
    "sp = pd.read_csv(os.path.join(dir_raw_data, \"sp500.csv\"),\n",
    "                sep=\",\",\n",
    "                header=0,\n",
    "                dtype={\"Date\": object, \"Close/Last\": float,\n",
    "                       \"Open\": float, \"High\": float, \"Low\": float})"
   ]
  },
  {
   "cell_type": "code",
   "execution_count": 5,
   "metadata": {},
   "outputs": [],
   "source": [
    "# Rename columns for readability\n",
    "sp.rename(columns={\"Date\": 'date', \"Close/Last\": 'close',\n",
    "                   \"Open\": 'open', \"High\": 'high', \"Low\": 'low'},\n",
    "                   inplace=True)\n",
    "\n",
    "# Set date column's data type\n",
    "sp['date'] = pd.to_datetime(sp['date'])\n",
    "\n",
    "# Sort rows by ascending order of date\n",
    "sp = sp.sort_values('date')"
   ]
  },
  {
   "cell_type": "code",
   "execution_count": 6,
   "metadata": {},
   "outputs": [
    {
     "name": "stdout",
     "output_type": "stream",
     "text": [
      "<class 'pandas.core.frame.DataFrame'>\n",
      "Index: 2538 entries, 2537 to 0\n",
      "Data columns (total 5 columns):\n",
      " #   Column  Non-Null Count  Dtype         \n",
      "---  ------  --------------  -----         \n",
      " 0   date    2538 non-null   datetime64[ns]\n",
      " 1   close   2538 non-null   float64       \n",
      " 2   open    2538 non-null   float64       \n",
      " 3   high    2538 non-null   float64       \n",
      " 4   low     2538 non-null   float64       \n",
      "dtypes: datetime64[ns](1), float64(4)\n",
      "memory usage: 119.0 KB\n"
     ]
    }
   ],
   "source": [
    "# Count null values\n",
    "sp.info()"
   ]
  },
  {
   "cell_type": "code",
   "execution_count": 7,
   "metadata": {},
   "outputs": [
    {
     "name": "stdout",
     "output_type": "stream",
     "text": [
      "First date:\t2013-11-11 00:00:00\n",
      "Latest date:\t2023-11-10 00:00:00\n"
     ]
    }
   ],
   "source": [
    "# Confirm first and last date\n",
    "print(\"First date:\\t\", sp['date'].iloc[0], sep=\"\")\n",
    "print(\"Latest date:\\t\", sp['date'].iloc[-1], sep=\"\")"
   ]
  },
  {
   "cell_type": "markdown",
   "metadata": {},
   "source": [
    "## Effective Federal Reserve Fund Rate"
   ]
  },
  {
   "cell_type": "code",
   "execution_count": 8,
   "metadata": {},
   "outputs": [],
   "source": [
    "effr = pd.read_csv(os.path.join(dir_raw_data, \"EFFR.csv\"),\n",
    "                   sep=\",\",\n",
    "                   header=0,\n",
    "                   dtype={\"DATE\": object, \"EFFR\": float},\n",
    "                   na_values=[\".\"]\n",
    "                   )"
   ]
  },
  {
   "cell_type": "code",
   "execution_count": 9,
   "metadata": {},
   "outputs": [],
   "source": [
    "# Rename columns for readability\n",
    "effr.rename(columns={\"DATE\": 'date', \"EFFR\": 'effr'}, inplace=True)\n",
    "\n",
    "# Set date column's data type\n",
    "effr['date'] = pd.to_datetime(effr['date'])\n",
    "\n",
    "# Sort rows by ascending order of date\n",
    "effr = effr.sort_values('date')"
   ]
  },
  {
   "cell_type": "code",
   "execution_count": 10,
   "metadata": {},
   "outputs": [
    {
     "name": "stdout",
     "output_type": "stream",
     "text": [
      "<class 'pandas.core.frame.DataFrame'>\n",
      "RangeIndex: 2608 entries, 0 to 2607\n",
      "Data columns (total 2 columns):\n",
      " #   Column  Non-Null Count  Dtype         \n",
      "---  ------  --------------  -----         \n",
      " 0   date    2608 non-null   datetime64[ns]\n",
      " 1   effr    2512 non-null   float64       \n",
      "dtypes: datetime64[ns](1), float64(1)\n",
      "memory usage: 40.9 KB\n"
     ]
    }
   ],
   "source": [
    "# Count null values\n",
    "effr.info()"
   ]
  },
  {
   "cell_type": "code",
   "execution_count": 11,
   "metadata": {},
   "outputs": [],
   "source": [
    "# Get list of null dates\n",
    "null_dates = effr['date'][effr['effr'].isna()]"
   ]
  },
  {
   "cell_type": "code",
   "execution_count": 12,
   "metadata": {},
   "outputs": [
    {
     "name": "stdout",
     "output_type": "stream",
     "text": [
      "First date:\t2013-11-12 00:00:00\n",
      "Latest date:\t2023-11-09 00:00:00\n"
     ]
    }
   ],
   "source": [
    "# Confirm first and last date\n",
    "print(\"First date:\\t\", effr['date'].iloc[0], sep=\"\")\n",
    "print(\"Latest date:\\t\", effr['date'].iloc[-1], sep=\"\")"
   ]
  },
  {
   "cell_type": "markdown",
   "metadata": {},
   "source": [
    "## US GDP"
   ]
  },
  {
   "cell_type": "code",
   "execution_count": 13,
   "metadata": {},
   "outputs": [],
   "source": [
    "gdp = pd.read_csv(os.path.join(dir_raw_data, \"GDP.csv\"),\n",
    "                  sep=\",\",\n",
    "                  header=0,\n",
    "                  dtype={\"DATE\": object, \"GDP\": float})"
   ]
  },
  {
   "cell_type": "code",
   "execution_count": 14,
   "metadata": {},
   "outputs": [],
   "source": [
    "# Rename columns for readability\n",
    "gdp.rename(columns={\"DATE\": \"date\", \"GDP\": \"gdp\"}, inplace=True)\n",
    "\n",
    "# Set date column's data type\n",
    "gdp['date'] = pd.to_datetime(gdp['date'])\n",
    "\n",
    "# Sort rows by ascending order of date\n",
    "gdp = gdp.sort_values('date')"
   ]
  },
  {
   "cell_type": "code",
   "execution_count": 15,
   "metadata": {},
   "outputs": [
    {
     "name": "stdout",
     "output_type": "stream",
     "text": [
      "<class 'pandas.core.frame.DataFrame'>\n",
      "RangeIndex: 40 entries, 0 to 39\n",
      "Data columns (total 2 columns):\n",
      " #   Column  Non-Null Count  Dtype         \n",
      "---  ------  --------------  -----         \n",
      " 0   date    40 non-null     datetime64[ns]\n",
      " 1   gdp     40 non-null     float64       \n",
      "dtypes: datetime64[ns](1), float64(1)\n",
      "memory usage: 768.0 bytes\n"
     ]
    }
   ],
   "source": [
    "# Count null values\n",
    "gdp.info()"
   ]
  },
  {
   "cell_type": "code",
   "execution_count": 16,
   "metadata": {},
   "outputs": [
    {
     "name": "stdout",
     "output_type": "stream",
     "text": [
      "First date:\t2013-10-01 00:00:00\n",
      "Latest date:\t2023-07-01 00:00:00\n"
     ]
    }
   ],
   "source": [
    "# Confirm first and last date\n",
    "print(\"First date:\\t\", gdp['date'].iloc[0], sep=\"\")\n",
    "print(\"Latest date:\\t\", gdp['date'].iloc[-1], sep=\"\")"
   ]
  },
  {
   "cell_type": "markdown",
   "metadata": {},
   "source": [
    "## MSCI ACWI ETF"
   ]
  },
  {
   "cell_type": "code",
   "execution_count": 17,
   "metadata": {},
   "outputs": [],
   "source": [
    "acwi = pd.read_csv(os.path.join(dir_raw_data, \"ACWI.csv\"),\n",
    "                  sep=\",\",\n",
    "                  header=0,\n",
    "                  dtype={\"Date\": object, \"Open\": float, \"High\": float,\n",
    "                         \"Low\": float, \"Close\": float,\n",
    "                         \"Adj Close\": float, \"Volume\": float})"
   ]
  },
  {
   "cell_type": "code",
   "execution_count": 18,
   "metadata": {},
   "outputs": [],
   "source": [
    "# Remove unnecessary columns\n",
    "acwi = acwi[['Date', 'Open']]\n",
    "\n",
    "# Rename columns for readability\n",
    "acwi.rename(columns={\"Date\": \"date\", \"Open\": \"acwi_open\"}, inplace=True)\n",
    "\n",
    "# Set date column's data type\n",
    "acwi['date'] = pd.to_datetime(acwi['date'])\n",
    "\n",
    "# Sort rows by ascending order of date\n",
    "acwi = acwi.sort_values('date')"
   ]
  },
  {
   "cell_type": "code",
   "execution_count": 19,
   "metadata": {},
   "outputs": [
    {
     "name": "stdout",
     "output_type": "stream",
     "text": [
      "<class 'pandas.core.frame.DataFrame'>\n",
      "RangeIndex: 2547 entries, 0 to 2546\n",
      "Data columns (total 2 columns):\n",
      " #   Column     Non-Null Count  Dtype         \n",
      "---  ------     --------------  -----         \n",
      " 0   date       2547 non-null   datetime64[ns]\n",
      " 1   acwi_open  2547 non-null   float64       \n",
      "dtypes: datetime64[ns](1), float64(1)\n",
      "memory usage: 39.9 KB\n"
     ]
    }
   ],
   "source": [
    "acwi.info()"
   ]
  },
  {
   "cell_type": "code",
   "execution_count": 20,
   "metadata": {},
   "outputs": [
    {
     "name": "stdout",
     "output_type": "stream",
     "text": [
      "First date:\t2013-10-01 00:00:00\n",
      "Latest date:\t2023-11-10 00:00:00\n"
     ]
    }
   ],
   "source": [
    "# Confirm first and last date\n",
    "print(\"First date:\\t\", acwi['date'].iloc[0], sep=\"\")\n",
    "print(\"Latest date:\\t\", acwi['date'].iloc[-1], sep=\"\")"
   ]
  },
  {
   "cell_type": "markdown",
   "metadata": {},
   "source": [
    "## Dataset summary"
   ]
  },
  {
   "cell_type": "markdown",
   "metadata": {},
   "source": [
    "#### S&P500 Dataset\n",
    "* 2538 rows\n",
    "* From `2013-11-11` to `2023-11-10`\n",
    "* `Daily` basis\n",
    "* Schema: `['date', 'close', 'open', 'high', 'low']`\n",
    "* no null value"
   ]
  },
  {
   "cell_type": "markdown",
   "metadata": {},
   "source": [
    "#### Effective Federal Reserve Fund Rate\n",
    "* 2608 rows\n",
    "* From `2013-11-12` to `2023-11-09`\n",
    "* `Daily` basis\n",
    "* Schema: `['date', 'effr']`\n",
    "* effr has 96 null values for holidays or other days.\n",
    "    * These dates will be removed from every datasets."
   ]
  },
  {
   "cell_type": "markdown",
   "metadata": {},
   "source": [
    "#### US GDP\n",
    "* 40 rows\n",
    "* From `2013-10-01` to `2023-07-01`\n",
    "* `Quarterly` basis\n",
    "    * Latest quarterly GDP value will be used for each given date.\n",
    "* Schema: `['date', 'gdp']`\n",
    "* no null value"
   ]
  },
  {
   "cell_type": "markdown",
   "metadata": {},
   "source": [
    "#### MSCI ACWI ETF\n",
    "* 2547 rows\n",
    "* From `2013-10-01` to `2023-11-10`\n",
    "* `Daily` basis\n",
    "* Schema: `['date', 'acwi_open']`\n",
    "* no null value"
   ]
  },
  {
   "cell_type": "markdown",
   "metadata": {},
   "source": [
    "# Combine(Join) Dataset"
   ]
  },
  {
   "cell_type": "markdown",
   "metadata": {},
   "source": [
    "## Schema of cleaned data\n",
    "`['date', 'close', 'open', 'high', 'low', 'effr', 'gdp', 'acwi_open']`\n",
    "* `date`: every date in `S&P500`, but from `2013-11-12` to `2023-11-09`\n",
    "    * The earliest and latest dates are bounded by EFFR data\n",
    "* `close`, `open`, `high`, `low`: data from `S&P500`\n",
    "* `effr`: data from `Effective Federal Reserve Fund Rate`\n",
    "* `gdp`: data from `US GDP`\n",
    "* `acwi_open`: Opening price from `Open` in `MSCI ACWI`"
   ]
  },
  {
   "cell_type": "code",
   "execution_count": 21,
   "metadata": {},
   "outputs": [],
   "source": [
    "# Generate valid date pd.series\n",
    "valid_date = sp['date']\n",
    "mask_validDate = (valid_date >= pd.to_datetime('2013-11-12')) &\\\n",
    "                 (valid_date <= pd.to_datetime('2023-11-09')) &\\\n",
    "                 (~valid_date.isin(null_dates))\n",
    "valid_date = valid_date[mask_validDate]"
   ]
  },
  {
   "cell_type": "code",
   "execution_count": 22,
   "metadata": {},
   "outputs": [],
   "source": [
    "# Change US GDP from quarterly to daily values\n"
   ]
  },
  {
   "cell_type": "code",
   "execution_count": 23,
   "metadata": {},
   "outputs": [],
   "source": [
    "# Merge with S&P500\n",
    "dataset = pd.merge(valid_date, sp, on='date', how='inner')\n",
    "\n",
    "# Merge with US GDP; apply latest quarterly GDP at any given date\n",
    "dataset = pd.merge_asof(dataset, gdp, on='date', direction='backward')\n",
    "\n",
    "# Merge with Effective Federal Fund Rate\n",
    "dataset = pd.merge(dataset, effr, on='date', how='inner')\n",
    "\n",
    "# Merge with MSCI ACWI ETF\n",
    "dataset = pd.merge(dataset, acwi, on='date', how='inner')"
   ]
  },
  {
   "cell_type": "markdown",
   "metadata": {},
   "source": [
    "### Normalize each column"
   ]
  },
  {
   "cell_type": "code",
   "execution_count": 24,
   "metadata": {},
   "outputs": [],
   "source": [
    "from sklearn.preprocessing import StandardScaler"
   ]
  },
  {
   "cell_type": "code",
   "execution_count": 25,
   "metadata": {},
   "outputs": [],
   "source": [
    "# Standardization for every column except date\n",
    "scaler = StandardScaler()\n",
    "columns_to_standardize = dataset.columns.drop('date')\n",
    "dataset[columns_to_standardize] = scaler.fit_transform(dataset[columns_to_standardize])"
   ]
  },
  {
   "cell_type": "code",
   "execution_count": 26,
   "metadata": {},
   "outputs": [
    {
     "name": "stdout",
     "output_type": "stream",
     "text": [
      "<class 'pandas.core.frame.DataFrame'>\n",
      "RangeIndex: 2498 entries, 0 to 2497\n",
      "Data columns (total 8 columns):\n",
      " #   Column     Non-Null Count  Dtype         \n",
      "---  ------     --------------  -----         \n",
      " 0   date       2498 non-null   datetime64[ns]\n",
      " 1   close      2498 non-null   float64       \n",
      " 2   open       2498 non-null   float64       \n",
      " 3   high       2498 non-null   float64       \n",
      " 4   low        2498 non-null   float64       \n",
      " 5   gdp        2498 non-null   float64       \n",
      " 6   effr       2498 non-null   float64       \n",
      " 7   acwi_open  2498 non-null   float64       \n",
      "dtypes: datetime64[ns](1), float64(7)\n",
      "memory usage: 156.2 KB\n"
     ]
    }
   ],
   "source": [
    "dataset.info()"
   ]
  },
  {
   "cell_type": "markdown",
   "metadata": {},
   "source": [
    "## Save/Read Dataset"
   ]
  },
  {
   "cell_type": "code",
   "execution_count": 27,
   "metadata": {},
   "outputs": [],
   "source": [
    "dir_main = os.getcwd()\n",
    "dir_prepared_data = os.path.join(dir_main, \"dataset\", \"prepared\")"
   ]
  },
  {
   "cell_type": "markdown",
   "metadata": {},
   "source": [
    "### Save dataset"
   ]
  },
  {
   "cell_type": "code",
   "execution_count": 28,
   "metadata": {},
   "outputs": [],
   "source": [
    "dataset.to_csv(os.path.join(dir_prepared_data, \"dataset.csv\"),\n",
    "               index=False)"
   ]
  },
  {
   "cell_type": "markdown",
   "metadata": {},
   "source": [
    "### Read dataset"
   ]
  },
  {
   "cell_type": "code",
   "execution_count": 29,
   "metadata": {},
   "outputs": [
    {
     "name": "stdout",
     "output_type": "stream",
     "text": [
      "<class 'pandas.core.frame.DataFrame'>\n",
      "RangeIndex: 2498 entries, 0 to 2497\n",
      "Data columns (total 8 columns):\n",
      " #   Column     Non-Null Count  Dtype         \n",
      "---  ------     --------------  -----         \n",
      " 0   date       2498 non-null   datetime64[ns]\n",
      " 1   close      2498 non-null   float64       \n",
      " 2   open       2498 non-null   float64       \n",
      " 3   high       2498 non-null   float64       \n",
      " 4   low        2498 non-null   float64       \n",
      " 5   gdp        2498 non-null   float64       \n",
      " 6   effr       2498 non-null   float64       \n",
      " 7   acwi_open  2498 non-null   float64       \n",
      "dtypes: datetime64[ns](1), float64(7)\n",
      "memory usage: 156.2 KB\n"
     ]
    }
   ],
   "source": [
    "dataset = pd.read_csv(os.path.join(dir_prepared_data, \"dataset.csv\"),\n",
    "                      sep=\",\",\n",
    "                      header=0,\n",
    "                      dtype={\"date\": object, \"close\": float, \"open\": float,\n",
    "                             \"high\": float, \"low\": float,\n",
    "                             \"gdp\": float, \"effr\": float,\n",
    "                             \"acwi_open\": float})\n",
    "dataset['date'] = pd.to_datetime(dataset['date'])\n",
    "dataset.info()"
   ]
  }
 ],
 "metadata": {
  "kernelspec": {
   "display_name": "python310",
   "language": "python",
   "name": "python3"
  },
  "language_info": {
   "codemirror_mode": {
    "name": "ipython",
    "version": 3
   },
   "file_extension": ".py",
   "mimetype": "text/x-python",
   "name": "python",
   "nbconvert_exporter": "python",
   "pygments_lexer": "ipython3",
   "version": "3.10.9"
  }
 },
 "nbformat": 4,
 "nbformat_minor": 2
}
