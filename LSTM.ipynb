{
 "cells": [
  {
   "cell_type": "code",
   "execution_count": 53,
   "metadata": {},
   "outputs": [],
   "source": [
    "import os\n",
    "import numpy as np\n",
    "import matplotlib.pyplot as plt\n",
    "import pandas as pd"
   ]
  },
  {
   "cell_type": "markdown",
   "metadata": {},
   "source": [
    "## Import data"
   ]
  },
  {
   "cell_type": "code",
   "execution_count": 54,
   "metadata": {},
   "outputs": [
    {
     "data": {
      "text/html": [
       "<div>\n",
       "<style scoped>\n",
       "    .dataframe tbody tr th:only-of-type {\n",
       "        vertical-align: middle;\n",
       "    }\n",
       "\n",
       "    .dataframe tbody tr th {\n",
       "        vertical-align: top;\n",
       "    }\n",
       "\n",
       "    .dataframe thead th {\n",
       "        text-align: right;\n",
       "    }\n",
       "</style>\n",
       "<table border=\"1\" class=\"dataframe\">\n",
       "  <thead>\n",
       "    <tr style=\"text-align: right;\">\n",
       "      <th></th>\n",
       "      <th>index</th>\n",
       "      <th>close</th>\n",
       "      <th>open</th>\n",
       "      <th>gdp</th>\n",
       "      <th>effr</th>\n",
       "      <th>acwi_open</th>\n",
       "    </tr>\n",
       "  </thead>\n",
       "  <tbody>\n",
       "    <tr>\n",
       "      <th>0</th>\n",
       "      <td>0</td>\n",
       "      <td>-1.345435</td>\n",
       "      <td>-1.342970</td>\n",
       "      <td>-1.356437</td>\n",
       "      <td>-0.762869</td>\n",
       "      <td>-1.196648</td>\n",
       "    </tr>\n",
       "    <tr>\n",
       "      <th>1</th>\n",
       "      <td>1</td>\n",
       "      <td>-1.329387</td>\n",
       "      <td>-1.348735</td>\n",
       "      <td>-1.356437</td>\n",
       "      <td>-0.762869</td>\n",
       "      <td>-1.221651</td>\n",
       "    </tr>\n",
       "    <tr>\n",
       "      <th>2</th>\n",
       "      <td>2</td>\n",
       "      <td>-1.319719</td>\n",
       "      <td>-1.328121</td>\n",
       "      <td>-1.356437</td>\n",
       "      <td>-0.756076</td>\n",
       "      <td>-1.182173</td>\n",
       "    </tr>\n",
       "    <tr>\n",
       "      <th>3</th>\n",
       "      <td>3</td>\n",
       "      <td>-1.311241</td>\n",
       "      <td>-1.319250</td>\n",
       "      <td>-1.356437</td>\n",
       "      <td>-0.756076</td>\n",
       "      <td>-1.149933</td>\n",
       "    </tr>\n",
       "    <tr>\n",
       "      <th>4</th>\n",
       "      <td>4</td>\n",
       "      <td>-1.318699</td>\n",
       "      <td>-1.310099</td>\n",
       "      <td>-1.356437</td>\n",
       "      <td>-0.756076</td>\n",
       "      <td>-1.123615</td>\n",
       "    </tr>\n",
       "    <tr>\n",
       "      <th>...</th>\n",
       "      <td>...</td>\n",
       "      <td>...</td>\n",
       "      <td>...</td>\n",
       "      <td>...</td>\n",
       "      <td>...</td>\n",
       "      <td>...</td>\n",
       "    </tr>\n",
       "    <tr>\n",
       "      <th>2493</th>\n",
       "      <td>2493</td>\n",
       "      <td>1.559943</td>\n",
       "      <td>1.533400</td>\n",
       "      <td>2.088713</td>\n",
       "      <td>2.803442</td>\n",
       "      <td>1.271356</td>\n",
       "    </tr>\n",
       "    <tr>\n",
       "      <th>2494</th>\n",
       "      <td>2494</td>\n",
       "      <td>1.568512</td>\n",
       "      <td>1.567091</td>\n",
       "      <td>2.088713</td>\n",
       "      <td>2.803442</td>\n",
       "      <td>1.310175</td>\n",
       "    </tr>\n",
       "    <tr>\n",
       "      <th>2495</th>\n",
       "      <td>2495</td>\n",
       "      <td>1.582418</td>\n",
       "      <td>1.569266</td>\n",
       "      <td>2.088713</td>\n",
       "      <td>2.803442</td>\n",
       "      <td>1.285831</td>\n",
       "    </tr>\n",
       "    <tr>\n",
       "      <th>2496</th>\n",
       "      <td>2496</td>\n",
       "      <td>1.587353</td>\n",
       "      <td>1.589633</td>\n",
       "      <td>2.088713</td>\n",
       "      <td>2.803442</td>\n",
       "      <td>1.301622</td>\n",
       "    </tr>\n",
       "    <tr>\n",
       "      <th>2497</th>\n",
       "      <td>2497</td>\n",
       "      <td>1.547618</td>\n",
       "      <td>1.597528</td>\n",
       "      <td>2.088713</td>\n",
       "      <td>2.803442</td>\n",
       "      <td>1.320045</td>\n",
       "    </tr>\n",
       "  </tbody>\n",
       "</table>\n",
       "<p>2498 rows × 6 columns</p>\n",
       "</div>"
      ],
      "text/plain": [
       "      index     close      open       gdp      effr  acwi_open\n",
       "0         0 -1.345435 -1.342970 -1.356437 -0.762869  -1.196648\n",
       "1         1 -1.329387 -1.348735 -1.356437 -0.762869  -1.221651\n",
       "2         2 -1.319719 -1.328121 -1.356437 -0.756076  -1.182173\n",
       "3         3 -1.311241 -1.319250 -1.356437 -0.756076  -1.149933\n",
       "4         4 -1.318699 -1.310099 -1.356437 -0.756076  -1.123615\n",
       "...     ...       ...       ...       ...       ...        ...\n",
       "2493   2493  1.559943  1.533400  2.088713  2.803442   1.271356\n",
       "2494   2494  1.568512  1.567091  2.088713  2.803442   1.310175\n",
       "2495   2495  1.582418  1.569266  2.088713  2.803442   1.285831\n",
       "2496   2496  1.587353  1.589633  2.088713  2.803442   1.301622\n",
       "2497   2497  1.547618  1.597528  2.088713  2.803442   1.320045\n",
       "\n",
       "[2498 rows x 6 columns]"
      ]
     },
     "execution_count": 54,
     "metadata": {},
     "output_type": "execute_result"
    }
   ],
   "source": [
    "dir_main = os.getcwd()\n",
    "dir_prepared_data = os.path.join(dir_main, \"dataset\", \"prepared\")\n",
    "df = pd.read_csv(os.path.join(dir_prepared_data, \"dataset.csv\"),\n",
    "                      sep=\",\",\n",
    "                      header=0,\n",
    "                      dtype={\"date\": object, \"close\": float, \"open\": float,\n",
    "                             \"high\": float, \"low\": float,\n",
    "                             \"gdp\": float, \"effr\": float,\n",
    "                             \"acwi_open\": float})\n",
    "df['date'] = pd.to_datetime(df['date'])\n",
    "df.drop(['date','high','low'], axis=1, inplace=True)\n",
    "df.reset_index()"
   ]
  },
  {
   "cell_type": "markdown",
   "metadata": {},
   "source": [
    "## Generate model"
   ]
  },
  {
   "cell_type": "code",
   "execution_count": 55,
   "metadata": {},
   "outputs": [],
   "source": [
    "from keras.models import Sequential\n",
    "from keras.layers import LSTM\n",
    "from keras.layers import Dropout\n",
    "from keras.layers import Dense"
   ]
  },
  {
   "cell_type": "code",
   "execution_count": 56,
   "metadata": {},
   "outputs": [],
   "source": [
    "train_data = df[:-30]\n",
    "test_data = df[-30:]\n",
    "\n",
    "X_train = train_data.drop('close', axis=1).to_numpy()\n",
    "y_train = train_data['close'].to_numpy()\n",
    "X_test = test_data.drop('close', axis=1).to_numpy()\n",
    "y_test = test_data['close'].to_numpy()"
   ]
  },
  {
   "cell_type": "code",
   "execution_count": 57,
   "metadata": {},
   "outputs": [
    {
     "name": "stdout",
     "output_type": "stream",
     "text": [
      "(2468, 4)\n",
      "(2468,)\n",
      "(30, 4)\n",
      "(30,)\n"
     ]
    }
   ],
   "source": [
    "for arr in [X_train, y_train, X_test, y_test]:\n",
    "    print(arr.shape)"
   ]
  },
  {
   "cell_type": "code",
   "execution_count": 58,
   "metadata": {},
   "outputs": [],
   "source": [
    "model = Sequential()\n",
    "model.add(LSTM(units=50,return_sequences=True,input_shape=(X_train.shape[1], 1)))\n",
    "model.add(Dropout(0.2))\n",
    "model.add(LSTM(units=50,return_sequences=True))\n",
    "model.add(Dropout(0.2))\n",
    "model.add(LSTM(units=50,return_sequences=True))\n",
    "model.add(Dropout(0.2))\n",
    "model.add(LSTM(units=50))\n",
    "model.add(Dropout(0.2))\n",
    "model.add(Dense(units=1))"
   ]
  },
  {
   "cell_type": "code",
   "execution_count": 59,
   "metadata": {},
   "outputs": [
    {
     "name": "stdout",
     "output_type": "stream",
     "text": [
      "Epoch 1/50\n",
      "78/78 [==============================] - 11s 12ms/step - loss: 0.3119\n",
      "Epoch 2/50\n",
      "78/78 [==============================] - 1s 12ms/step - loss: 0.0362\n",
      "Epoch 3/50\n",
      "78/78 [==============================] - 1s 12ms/step - loss: 0.0320\n",
      "Epoch 4/50\n",
      "78/78 [==============================] - 1s 12ms/step - loss: 0.0286\n",
      "Epoch 5/50\n",
      "78/78 [==============================] - 1s 13ms/step - loss: 0.0261\n",
      "Epoch 6/50\n",
      "78/78 [==============================] - 1s 14ms/step - loss: 0.0233\n",
      "Epoch 7/50\n",
      "78/78 [==============================] - 1s 12ms/step - loss: 0.0229\n",
      "Epoch 8/50\n",
      "78/78 [==============================] - 1s 11ms/step - loss: 0.0229\n",
      "Epoch 9/50\n",
      "78/78 [==============================] - 1s 11ms/step - loss: 0.0200\n",
      "Epoch 10/50\n",
      "78/78 [==============================] - 1s 11ms/step - loss: 0.0191\n",
      "Epoch 11/50\n",
      "78/78 [==============================] - 1s 11ms/step - loss: 0.0184\n",
      "Epoch 12/50\n",
      "78/78 [==============================] - 1s 11ms/step - loss: 0.0182\n",
      "Epoch 13/50\n",
      "78/78 [==============================] - 1s 11ms/step - loss: 0.0176\n",
      "Epoch 14/50\n",
      "78/78 [==============================] - 1s 11ms/step - loss: 0.0186\n",
      "Epoch 15/50\n",
      "78/78 [==============================] - 1s 13ms/step - loss: 0.0199\n",
      "Epoch 16/50\n",
      "78/78 [==============================] - 1s 12ms/step - loss: 0.0186\n",
      "Epoch 17/50\n",
      "78/78 [==============================] - 1s 12ms/step - loss: 0.0170\n",
      "Epoch 18/50\n",
      "78/78 [==============================] - 1s 12ms/step - loss: 0.0157\n",
      "Epoch 19/50\n",
      "78/78 [==============================] - 1s 10ms/step - loss: 0.0182\n",
      "Epoch 20/50\n",
      "78/78 [==============================] - 1s 11ms/step - loss: 0.0155\n",
      "Epoch 21/50\n",
      "78/78 [==============================] - 1s 8ms/step - loss: 0.0157\n",
      "Epoch 22/50\n",
      "78/78 [==============================] - 1s 8ms/step - loss: 0.0160\n",
      "Epoch 23/50\n",
      "78/78 [==============================] - 1s 8ms/step - loss: 0.0159\n",
      "Epoch 24/50\n",
      "78/78 [==============================] - 1s 9ms/step - loss: 0.0141\n",
      "Epoch 25/50\n",
      "78/78 [==============================] - 1s 8ms/step - loss: 0.0145\n",
      "Epoch 26/50\n",
      "78/78 [==============================] - 1s 8ms/step - loss: 0.0145\n",
      "Epoch 27/50\n",
      "78/78 [==============================] - 1s 8ms/step - loss: 0.0133\n",
      "Epoch 28/50\n",
      "78/78 [==============================] - 1s 8ms/step - loss: 0.0135\n",
      "Epoch 29/50\n",
      "78/78 [==============================] - 1s 9ms/step - loss: 0.0134\n",
      "Epoch 30/50\n",
      "78/78 [==============================] - 1s 8ms/step - loss: 0.0128\n",
      "Epoch 31/50\n",
      "78/78 [==============================] - 1s 8ms/step - loss: 0.0151\n",
      "Epoch 32/50\n",
      "78/78 [==============================] - 1s 9ms/step - loss: 0.0140\n",
      "Epoch 33/50\n",
      "78/78 [==============================] - 1s 8ms/step - loss: 0.0125\n",
      "Epoch 34/50\n",
      "78/78 [==============================] - 1s 9ms/step - loss: 0.0130\n",
      "Epoch 35/50\n",
      "78/78 [==============================] - 1s 8ms/step - loss: 0.0134\n",
      "Epoch 36/50\n",
      "78/78 [==============================] - 1s 8ms/step - loss: 0.0114\n",
      "Epoch 37/50\n",
      "78/78 [==============================] - 1s 9ms/step - loss: 0.0130\n",
      "Epoch 38/50\n",
      "78/78 [==============================] - 1s 10ms/step - loss: 0.0123\n",
      "Epoch 39/50\n",
      "78/78 [==============================] - 1s 11ms/step - loss: 0.0113\n",
      "Epoch 40/50\n",
      "78/78 [==============================] - 1s 11ms/step - loss: 0.0121\n",
      "Epoch 41/50\n",
      "78/78 [==============================] - 1s 12ms/step - loss: 0.0122\n",
      "Epoch 42/50\n",
      "78/78 [==============================] - 1s 11ms/step - loss: 0.0110\n",
      "Epoch 43/50\n",
      "78/78 [==============================] - 1s 9ms/step - loss: 0.0113\n",
      "Epoch 44/50\n",
      "78/78 [==============================] - 1s 9ms/step - loss: 0.0108\n",
      "Epoch 45/50\n",
      "78/78 [==============================] - 1s 9ms/step - loss: 0.0113\n",
      "Epoch 46/50\n",
      "78/78 [==============================] - 1s 10ms/step - loss: 0.0100\n",
      "Epoch 47/50\n",
      "78/78 [==============================] - 1s 9ms/step - loss: 0.0107\n",
      "Epoch 48/50\n",
      "78/78 [==============================] - 1s 11ms/step - loss: 0.0109\n",
      "Epoch 49/50\n",
      "78/78 [==============================] - 1s 10ms/step - loss: 0.0105\n",
      "Epoch 50/50\n",
      "78/78 [==============================] - 1s 9ms/step - loss: 0.0112\n"
     ]
    },
    {
     "data": {
      "text/plain": [
       "<keras.callbacks.History at 0x1765829d240>"
      ]
     },
     "execution_count": 59,
     "metadata": {},
     "output_type": "execute_result"
    }
   ],
   "source": [
    "model.compile(optimizer='adam',loss='mean_squared_error')\n",
    "model.fit(X_train,y_train,epochs=50,batch_size=32)"
   ]
  },
  {
   "cell_type": "markdown",
   "metadata": {},
   "source": [
    "## Test model"
   ]
  },
  {
   "cell_type": "code",
   "execution_count": 60,
   "metadata": {},
   "outputs": [
    {
     "name": "stdout",
     "output_type": "stream",
     "text": [
      "WARNING:tensorflow:6 out of the last 6 calls to <function Model.make_predict_function.<locals>.predict_function at 0x000001764F861A20> triggered tf.function retracing. Tracing is expensive and the excessive number of tracings could be due to (1) creating @tf.function repeatedly in a loop, (2) passing tensors with different shapes, (3) passing Python objects instead of tensors. For (1), please define your @tf.function outside of the loop. For (2), @tf.function has reduce_retracing=True option that can avoid unnecessary retracing. For (3), please refer to https://www.tensorflow.org/guide/function#controlling_retracing and https://www.tensorflow.org/api_docs/python/tf/function for  more details.\n",
      "1/1 [==============================] - 2s 2s/step\n"
     ]
    }
   ],
   "source": [
    "y_hat = model.predict(X_test)"
   ]
  },
  {
   "cell_type": "code",
   "execution_count": 61,
   "metadata": {},
   "outputs": [
    {
     "data": {
      "text/plain": [
       "(30, 1)"
      ]
     },
     "execution_count": 61,
     "metadata": {},
     "output_type": "execute_result"
    }
   ],
   "source": [
    "y_hat.shape"
   ]
  },
  {
   "cell_type": "markdown",
   "metadata": {},
   "source": [
    "## Plot the result"
   ]
  },
  {
   "cell_type": "code",
   "execution_count": 62,
   "metadata": {},
   "outputs": [
    {
     "data": {
      "image/png": "[encoded data removed]",
      "text/plain": [
       "<Figure size 640x480 with 1 Axes>"
      ]
     },
     "metadata": {},
     "output_type": "display_data"
    }
   ],
   "source": [
    "x_temp = np.arange(len(y_test)) + 1\n",
    "plt.plot(x_temp, y_test, color = 'black', label = 'Stock Price')\n",
    "plt.plot(x_temp, y_hat, color = 'green', label = 'Predicted Stock Price')\n",
    "plt.title('S&P500 Stock Price Prediction using 4-layers of LSTM')\n",
    "plt.xlabel('# of prediction date')\n",
    "plt.ylabel('S&P500 Stock Price')\n",
    "plt.legend()\n",
    "plt.show()"
   ]
  }
 ],
 "metadata": {
  "kernelspec": {
   "display_name": "python310",
   "language": "python",
   "name": "python3"
  },
  "language_info": {
   "codemirror_mode": {
    "name": "ipython",
    "version": 3
   },
   "file_extension": ".py",
   "mimetype": "text/x-python",
   "name": "python",
   "nbconvert_exporter": "python",
   "pygments_lexer": "ipython3",
   "version": "3.10.9"
  }
 },
 "nbformat": 4,
 "nbformat_minor": 2
}
