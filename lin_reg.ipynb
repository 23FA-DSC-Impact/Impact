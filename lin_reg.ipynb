{
 "cells": [
  {
   "cell_type": "code",
   "execution_count": 32,
   "metadata": {},
   "outputs": [],
   "source": [
    "import numpy as np\n",
    "import pandas as pd\n",
    "import os"
   ]
  },
  {
   "cell_type": "code",
   "execution_count": 33,
   "metadata": {},
   "outputs": [],
   "source": [
    "import warnings\n",
    "warnings.filterwarnings(\"ignore\")"
   ]
  },
  {
   "cell_type": "markdown",
   "metadata": {},
   "source": [
    "# Read raw data"
   ]
  },
  {
   "cell_type": "code",
   "execution_count": 34,
   "metadata": {},
   "outputs": [],
   "source": [
    "dir_main = os.getcwd()\n",
    "dir_raw_data = os.path.join(dir_main, \"dataset\", \"raw\")"
   ]
  },
  {
   "cell_type": "markdown",
   "metadata": {},
   "source": [
    "## S&P500"
   ]
  },
  {
   "cell_type": "code",
   "execution_count": 35,
   "metadata": {},
   "outputs": [],
   "source": [
    "sp = pd.read_csv(os.path.join(dir_raw_data, \"sp500.csv\"),\n",
    "                sep=\",\",\n",
    "                header=0,\n",
    "                dtype={\"Date\": object, \"Close/Last\": float,\n",
    "                       \"Open\": float, \"High\": float, \"Low\": float})"
   ]
  },
  {
   "cell_type": "code",
   "execution_count": 36,
   "metadata": {},
   "outputs": [],
   "source": [
    "# Rename columns for readability\n",
    "sp.rename(columns={\"Date\": 'date', \"Close/Last\": 'close',\n",
    "                   \"Open\": 'open', \"High\": 'high', \"Low\": 'low'},\n",
    "                   inplace=True)\n",
    "\n",
    "# Set date column's data type\n",
    "sp['date'] = pd.to_datetime(sp['date'])\n",
    "\n",
    "# Sort rows by ascending order of date\n",
    "sp = sp.sort_values('date')"
   ]
  },
  {
   "cell_type": "code",
   "execution_count": 37,
   "metadata": {},
   "outputs": [
    {
     "name": "stdout",
     "output_type": "stream",
     "text": [
      "<class 'pandas.core.frame.DataFrame'>\n",
      "Index: 2538 entries, 2537 to 0\n",
      "Data columns (total 5 columns):\n",
      " #   Column  Non-Null Count  Dtype         \n",
      "---  ------  --------------  -----         \n",
      " 0   date    2538 non-null   datetime64[ns]\n",
      " 1   close   2538 non-null   float64       \n",
      " 2   open    2538 non-null   float64       \n",
      " 3   high    2538 non-null   float64       \n",
      " 4   low     2538 non-null   float64       \n",
      "dtypes: datetime64[ns](1), float64(4)\n",
      "memory usage: 119.0 KB\n"
     ]
    }
   ],
   "source": [
    "# Count null values\n",
    "sp.info()"
   ]
  },
  {
   "cell_type": "code",
   "execution_count": 38,
   "metadata": {},
   "outputs": [
    {
     "name": "stdout",
     "output_type": "stream",
     "text": [
      "First date:\t2013-11-11 00:00:00\n",
      "Latest date:\t2023-11-10 00:00:00\n"
     ]
    }
   ],
   "source": [
    "# Confirm first and last date\n",
    "print(\"First date:\\t\", sp['date'].iloc[0], sep=\"\")\n",
    "print(\"Latest date:\\t\", sp['date'].iloc[-1], sep=\"\")"
   ]
  },
  {
   "cell_type": "markdown",
   "metadata": {},
   "source": [
    "## Effective Federal Reserve Fund Rate"
   ]
  },
  {
   "cell_type": "code",
   "execution_count": 39,
   "metadata": {},
   "outputs": [],
   "source": [
    "effr = pd.read_csv(os.path.join(dir_raw_data, \"EFFR.csv\"),\n",
    "                   sep=\",\",\n",
    "                   header=0,\n",
    "                   dtype={\"DATE\": object, \"EFFR\": float},\n",
    "                   na_values=[\".\"]\n",
    "                   )"
   ]
  },
  {
   "cell_type": "code",
   "execution_count": 40,
   "metadata": {},
   "outputs": [],
   "source": [
    "# Rename columns for readability\n",
    "effr.rename(columns={\"DATE\": 'date', \"EFFR\": 'effr'}, inplace=True)\n",
    "\n",
    "# Set date column's data type\n",
    "effr['date'] = pd.to_datetime(effr['date'])\n",
    "\n",
    "# Sort rows by ascending order of date\n",
    "effr = effr.sort_values('date')"
   ]
  },
  {
   "cell_type": "code",
   "execution_count": 41,
   "metadata": {},
   "outputs": [
    {
     "name": "stdout",
     "output_type": "stream",
     "text": [
      "<class 'pandas.core.frame.DataFrame'>\n",
      "RangeIndex: 2608 entries, 0 to 2607\n",
      "Data columns (total 2 columns):\n",
      " #   Column  Non-Null Count  Dtype         \n",
      "---  ------  --------------  -----         \n",
      " 0   date    2608 non-null   datetime64[ns]\n",
      " 1   effr    2512 non-null   float64       \n",
      "dtypes: datetime64[ns](1), float64(1)\n",
      "memory usage: 40.9 KB\n"
     ]
    }
   ],
   "source": [
    "# Count null values\n",
    "effr.info()"
   ]
  },
  {
   "cell_type": "code",
   "execution_count": 42,
   "metadata": {},
   "outputs": [],
   "source": [
    "# Get list of null dates\n",
    "null_dates = effr['date'][effr['effr'].isna()]"
   ]
  },
  {
   "cell_type": "code",
   "execution_count": 43,
   "metadata": {},
   "outputs": [
    {
     "name": "stdout",
     "output_type": "stream",
     "text": [
      "First date:\t2013-11-12 00:00:00\n",
      "Latest date:\t2023-11-09 00:00:00\n"
     ]
    }
   ],
   "source": [
    "# Confirm first and last date\n",
    "print(\"First date:\\t\", effr['date'].iloc[0], sep=\"\")\n",
    "print(\"Latest date:\\t\", effr['date'].iloc[-1], sep=\"\")"
   ]
  },
  {
   "cell_type": "markdown",
   "metadata": {},
   "source": [
    "## US GDP"
   ]
  },
  {
   "cell_type": "code",
   "execution_count": 44,
   "metadata": {},
   "outputs": [],
   "source": [
    "gdp = pd.read_csv(os.path.join(dir_raw_data, \"GDP.csv\"),\n",
    "                  sep=\",\",\n",
    "                  header=0,\n",
    "                  dtype={\"DATE\": object, \"GDP\": float})"
   ]
  },
  {
   "cell_type": "code",
   "execution_count": 45,
   "metadata": {},
   "outputs": [],
   "source": [
    "# Rename columns for readability\n",
    "gdp.rename(columns={\"DATE\": \"date\", \"GDP\": \"gdp\"}, inplace=True)\n",
    "\n",
    "# Set date column's data type\n",
    "gdp['date'] = pd.to_datetime(gdp['date'])\n",
    "\n",
    "# Sort rows by ascending order of date\n",
    "gdp = gdp.sort_values('date')"
   ]
  },
  {
   "cell_type": "code",
   "execution_count": 46,
   "metadata": {},
   "outputs": [
    {
     "name": "stdout",
     "output_type": "stream",
     "text": [
      "<class 'pandas.core.frame.DataFrame'>\n",
      "RangeIndex: 40 entries, 0 to 39\n",
      "Data columns (total 2 columns):\n",
      " #   Column  Non-Null Count  Dtype         \n",
      "---  ------  --------------  -----         \n",
      " 0   date    40 non-null     datetime64[ns]\n",
      " 1   gdp     40 non-null     float64       \n",
      "dtypes: datetime64[ns](1), float64(1)\n",
      "memory usage: 772.0 bytes\n"
     ]
    }
   ],
   "source": [
    "# Count null values\n",
    "gdp.info()"
   ]
  },
  {
   "cell_type": "code",
   "execution_count": 47,
   "metadata": {},
   "outputs": [
    {
     "name": "stdout",
     "output_type": "stream",
     "text": [
      "First date:\t2013-10-01 00:00:00\n",
      "Latest date:\t2023-07-01 00:00:00\n"
     ]
    }
   ],
   "source": [
    "# Confirm first and last date\n",
    "print(\"First date:\\t\", gdp['date'].iloc[0], sep=\"\")\n",
    "print(\"Latest date:\\t\", gdp['date'].iloc[-1], sep=\"\")"
   ]
  },
  {
   "cell_type": "markdown",
   "metadata": {},
   "source": [
    "## MSCI ACWI ETF"
   ]
  },
  {
   "cell_type": "code",
   "execution_count": 48,
   "metadata": {},
   "outputs": [],
   "source": [
    "acwi = pd.read_csv(os.path.join(dir_raw_data, \"ACWI.csv\"),\n",
    "                  sep=\",\",\n",
    "                  header=0,\n",
    "                  dtype={\"Date\": object, \"Open\": float, \"High\": float,\n",
    "                         \"Low\": float, \"Close\": float,\n",
    "                         \"Adj Close\": float, \"Volume\": float})"
   ]
  },
  {
   "cell_type": "code",
   "execution_count": 49,
   "metadata": {},
   "outputs": [],
   "source": [
    "# Remove unnecessary columns\n",
    "acwi = acwi[['Date', 'Open']]\n",
    "\n",
    "# Rename columns for readability\n",
    "acwi.rename(columns={\"Date\": \"date\", \"Open\": \"acwi_open\"}, inplace=True)\n",
    "\n",
    "# Set date column's data type\n",
    "acwi['date'] = pd.to_datetime(acwi['date'])\n",
    "\n",
    "# Sort rows by ascending order of date\n",
    "acwi = acwi.sort_values('date')"
   ]
  },
  {
   "cell_type": "code",
   "execution_count": 50,
   "metadata": {},
   "outputs": [
    {
     "name": "stdout",
     "output_type": "stream",
     "text": [
      "<class 'pandas.core.frame.DataFrame'>\n",
      "RangeIndex: 2547 entries, 0 to 2546\n",
      "Data columns (total 2 columns):\n",
      " #   Column     Non-Null Count  Dtype         \n",
      "---  ------     --------------  -----         \n",
      " 0   date       2547 non-null   datetime64[ns]\n",
      " 1   acwi_open  2547 non-null   float64       \n",
      "dtypes: datetime64[ns](1), float64(1)\n",
      "memory usage: 39.9 KB\n"
     ]
    }
   ],
   "source": [
    "acwi.info()"
   ]
  },
  {
   "cell_type": "code",
   "execution_count": 51,
   "metadata": {},
   "outputs": [
    {
     "name": "stdout",
     "output_type": "stream",
     "text": [
      "First date:\t2013-10-01 00:00:00\n",
      "Latest date:\t2023-11-10 00:00:00\n"
     ]
    }
   ],
   "source": [
    "# Confirm first and last date\n",
    "print(\"First date:\\t\", acwi['date'].iloc[0], sep=\"\")\n",
    "print(\"Latest date:\\t\", acwi['date'].iloc[-1], sep=\"\")"
   ]
  },
  {
   "cell_type": "markdown",
   "metadata": {},
   "source": [
    "## Dataset summary"
   ]
  },
  {
   "cell_type": "markdown",
   "metadata": {},
   "source": [
    "#### S&P500 Dataset\n",
    "* 2538 rows\n",
    "* From `2013-11-11` to `2023-11-10`\n",
    "* `Daily` basis\n",
    "* Schema: `['date', 'close', 'open', 'high', 'low']`\n",
    "* no null value"
   ]
  },
  {
   "cell_type": "markdown",
   "metadata": {},
   "source": [
    "#### Effective Federal Reserve Fund Rate\n",
    "* 2608 rows\n",
    "* From `2013-11-12` to `2023-11-09`\n",
    "* `Daily` basis\n",
    "* Schema: `['date', 'effr']`\n",
    "* effr has 96 null values for holidays or other days.\n",
    "    * These dates will be removed from every datasets."
   ]
  },
  {
   "cell_type": "markdown",
   "metadata": {},
   "source": [
    "#### US GDP\n",
    "* 40 rows\n",
    "* From `2013-10-01` to `2023-07-01`\n",
    "* `Quarterly` basis\n",
    "    * Latest quarterly GDP value will be used for each given date.\n",
    "* Schema: `['date', 'gdp']`\n",
    "* no null value"
   ]
  },
  {
   "cell_type": "markdown",
   "metadata": {},
   "source": [
    "#### MSCI ACWI ETF\n",
    "* 2547 rows\n",
    "* From `2013-10-01` to `2023-11-10`\n",
    "* `Daily` basis\n",
    "* Schema: `['date', 'acwi_open']`\n",
    "* no null value"
   ]
  },
  {
   "cell_type": "markdown",
   "metadata": {},
   "source": [
    "# Combine(Join) Dataset"
   ]
  },
  {
   "cell_type": "markdown",
   "metadata": {},
   "source": [
    "## Schema of cleaned data\n",
    "`['date', 'close', 'open', 'high', 'low', 'effr', 'gdp', 'acwi_open']`\n",
    "* `date`: every date in `S&P500`, but from `2013-11-12` to `2023-11-09`\n",
    "    * The earliest and latest dates are bounded by EFFR data\n",
    "* `close`, `open`, `high`, `low`: data from `S&P500`\n",
    "* `effr`: data from `Effective Federal Reserve Fund Rate`\n",
    "* `gdp`: data from `US GDP`\n",
    "* `acwi_open`: Opening price from `Open` in `MSCI ACWI`"
   ]
  },
  {
   "cell_type": "code",
   "execution_count": 52,
   "metadata": {},
   "outputs": [],
   "source": [
    "# Generate valid date pd.series\n",
    "valid_date = sp['date']\n",
    "mask_validDate = (valid_date >= pd.to_datetime('2013-11-12')) &\\\n",
    "                 (valid_date <= pd.to_datetime('2023-11-09')) &\\\n",
    "                 (~valid_date.isin(null_dates))\n",
    "valid_date = valid_date[mask_validDate]"
   ]
  },
  {
   "cell_type": "code",
   "execution_count": 53,
   "metadata": {},
   "outputs": [],
   "source": [
    "# Change US GDP from quarterly to daily values\n"
   ]
  },
  {
   "cell_type": "code",
   "execution_count": 54,
   "metadata": {},
   "outputs": [],
   "source": [
    "# Merge with S&P500\n",
    "dataset = pd.merge(valid_date, sp, on='date', how='inner')\n",
    "\n",
    "# Merge with US GDP; apply latest quarterly GDP at any given date\n",
    "dataset = pd.merge_asof(dataset, gdp, on='date', direction='backward')\n",
    "\n",
    "# Merge with Effective Federal Fund Rate\n",
    "dataset = pd.merge(dataset, effr, on='date', how='inner')\n",
    "\n",
    "# Merge with MSCI ACWI ETF\n",
    "dataset = pd.merge(dataset, acwi, on='date', how='inner')"
   ]
  },
  {
   "cell_type": "markdown",
   "metadata": {},
   "source": [
    "### Normalize each column"
   ]
  },
  {
   "cell_type": "code",
   "execution_count": 55,
   "metadata": {},
   "outputs": [],
   "source": [
    "from sklearn.preprocessing import StandardScaler"
   ]
  },
  {
   "cell_type": "code",
   "execution_count": 56,
   "metadata": {},
   "outputs": [],
   "source": [
    "# Standardization for every column except date\n",
    "scaler = StandardScaler()\n",
    "columns_to_standardize = dataset.columns.drop('date')\n",
    "dataset[columns_to_standardize] = scaler.fit_transform(dataset[columns_to_standardize])"
   ]
  },
  {
   "cell_type": "code",
   "execution_count": 57,
   "metadata": {},
   "outputs": [
    {
     "name": "stdout",
     "output_type": "stream",
     "text": [
      "<class 'pandas.core.frame.DataFrame'>\n",
      "RangeIndex: 2498 entries, 0 to 2497\n",
      "Data columns (total 8 columns):\n",
      " #   Column     Non-Null Count  Dtype         \n",
      "---  ------     --------------  -----         \n",
      " 0   date       2498 non-null   datetime64[ns]\n",
      " 1   close      2498 non-null   float64       \n",
      " 2   open       2498 non-null   float64       \n",
      " 3   high       2498 non-null   float64       \n",
      " 4   low        2498 non-null   float64       \n",
      " 5   gdp        2498 non-null   float64       \n",
      " 6   effr       2498 non-null   float64       \n",
      " 7   acwi_open  2498 non-null   float64       \n",
      "dtypes: datetime64[ns](1), float64(7)\n",
      "memory usage: 156.3 KB\n"
     ]
    }
   ],
   "source": [
    "dataset.info()"
   ]
  },
  {
   "cell_type": "markdown",
   "metadata": {},
   "source": [
    "## Save/Read Dataset"
   ]
  },
  {
   "cell_type": "code",
   "execution_count": 58,
   "metadata": {},
   "outputs": [],
   "source": [
    "dir_main = os.getcwd()\n",
    "dir_prepared_data = os.path.join(dir_main, \"dataset\", \"prepared\")"
   ]
  },
  {
   "cell_type": "markdown",
   "metadata": {},
   "source": [
    "### Save dataset"
   ]
  },
  {
   "cell_type": "code",
   "execution_count": 59,
   "metadata": {},
   "outputs": [],
   "source": [
    "dataset.to_csv(os.path.join(dir_prepared_data, \"dataset.csv\"),\n",
    "               index=False)"
   ]
  },
  {
   "cell_type": "markdown",
   "metadata": {},
   "source": [
    "### Read dataset"
   ]
  },
  {
   "cell_type": "code",
   "execution_count": 60,
   "metadata": {},
   "outputs": [
    {
     "name": "stdout",
     "output_type": "stream",
     "text": [
      "<class 'pandas.core.frame.DataFrame'>\n",
      "RangeIndex: 2498 entries, 0 to 2497\n",
      "Data columns (total 8 columns):\n",
      " #   Column     Non-Null Count  Dtype         \n",
      "---  ------     --------------  -----         \n",
      " 0   date       2498 non-null   datetime64[ns]\n",
      " 1   close      2498 non-null   float64       \n",
      " 2   open       2498 non-null   float64       \n",
      " 3   high       2498 non-null   float64       \n",
      " 4   low        2498 non-null   float64       \n",
      " 5   gdp        2498 non-null   float64       \n",
      " 6   effr       2498 non-null   float64       \n",
      " 7   acwi_open  2498 non-null   float64       \n",
      "dtypes: datetime64[ns](1), float64(7)\n",
      "memory usage: 156.3 KB\n"
     ]
    }
   ],
   "source": [
    "dataset = pd.read_csv(os.path.join(dir_prepared_data, \"dataset.csv\"),\n",
    "                      sep=\",\",\n",
    "                      header=0,\n",
    "                      dtype={\"date\": object, \"close\": float, \"open\": float,\n",
    "                             \"high\": float, \"low\": float,\n",
    "                             \"gdp\": float, \"effr\": float,\n",
    "                             \"acwi_open\": float})\n",
    "dataset['date'] = pd.to_datetime(dataset['date'])\n",
    "dataset.info()"
   ]
  },
  {
   "cell_type": "markdown",
   "metadata": {},
   "source": [
    "Linear regression"
   ]
  },
  {
   "cell_type": "code",
   "execution_count": 62,
   "metadata": {},
   "outputs": [
    {
     "data": {
      "text/html": [
       "<table class=\"simpletable\">\n",
       "<caption>OLS Regression Results</caption>\n",
       "<tr>\n",
       "  <th>Dep. Variable:</th>          <td>close</td>      <th>  R-squared:         </th>  <td>   1.000</td> \n",
       "</tr>\n",
       "<tr>\n",
       "  <th>Model:</th>                   <td>OLS</td>       <th>  Adj. R-squared:    </th>  <td>   1.000</td> \n",
       "</tr>\n",
       "<tr>\n",
       "  <th>Method:</th>             <td>Least Squares</td>  <th>  F-statistic:       </th>  <td>2.418e+06</td>\n",
       "</tr>\n",
       "<tr>\n",
       "  <th>Date:</th>             <td>Wed, 29 Nov 2023</td> <th>  Prob (F-statistic):</th>   <td>  0.00</td>  \n",
       "</tr>\n",
       "<tr>\n",
       "  <th>Time:</th>                 <td>22:11:59</td>     <th>  Log-Likelihood:    </th>  <td>  7284.5</td> \n",
       "</tr>\n",
       "<tr>\n",
       "  <th>No. Observations:</th>      <td>  2498</td>      <th>  AIC:               </th> <td>-1.456e+04</td>\n",
       "</tr>\n",
       "<tr>\n",
       "  <th>Df Residuals:</th>          <td>  2491</td>      <th>  BIC:               </th> <td>-1.451e+04</td>\n",
       "</tr>\n",
       "<tr>\n",
       "  <th>Df Model:</th>              <td>     6</td>      <th>                     </th>      <td> </td>    \n",
       "</tr>\n",
       "<tr>\n",
       "  <th>Covariance Type:</th>      <td>nonrobust</td>    <th>                     </th>      <td> </td>    \n",
       "</tr>\n",
       "</table>\n",
       "<table class=\"simpletable\">\n",
       "<tr>\n",
       "      <td></td>         <th>coef</th>     <th>std err</th>      <th>t</th>      <th>P>|t|</th>  <th>[0.025</th>    <th>0.975]</th>  \n",
       "</tr>\n",
       "<tr>\n",
       "  <th>Intercept</th> <td> 1.518e-16</td> <td>    0.000</td> <td> 5.78e-13</td> <td> 1.000</td> <td>   -0.001</td> <td>    0.001</td>\n",
       "</tr>\n",
       "<tr>\n",
       "  <th>open</th>      <td>   -0.7196</td> <td>    0.016</td> <td>  -44.126</td> <td> 0.000</td> <td>   -0.752</td> <td>   -0.688</td>\n",
       "</tr>\n",
       "<tr>\n",
       "  <th>high</th>      <td>    0.9034</td> <td>    0.016</td> <td>   57.440</td> <td> 0.000</td> <td>    0.873</td> <td>    0.934</td>\n",
       "</tr>\n",
       "<tr>\n",
       "  <th>effr</th>      <td>   -0.0008</td> <td>    0.001</td> <td>   -1.183</td> <td> 0.237</td> <td>   -0.002</td> <td>    0.000</td>\n",
       "</tr>\n",
       "<tr>\n",
       "  <th>low</th>       <td>    0.8136</td> <td>    0.012</td> <td>   65.486</td> <td> 0.000</td> <td>    0.789</td> <td>    0.838</td>\n",
       "</tr>\n",
       "<tr>\n",
       "  <th>gdp</th>       <td>    0.0017</td> <td>    0.002</td> <td>    0.853</td> <td> 0.394</td> <td>   -0.002</td> <td>    0.006</td>\n",
       "</tr>\n",
       "<tr>\n",
       "  <th>acwi_open</th> <td>    0.0013</td> <td>    0.002</td> <td>    0.594</td> <td> 0.552</td> <td>   -0.003</td> <td>    0.006</td>\n",
       "</tr>\n",
       "</table>\n",
       "<table class=\"simpletable\">\n",
       "<tr>\n",
       "  <th>Omnibus:</th>       <td>456.021</td> <th>  Durbin-Watson:     </th> <td>   2.096</td>\n",
       "</tr>\n",
       "<tr>\n",
       "  <th>Prob(Omnibus):</th> <td> 0.000</td>  <th>  Jarque-Bera (JB):  </th> <td>8386.911</td>\n",
       "</tr>\n",
       "<tr>\n",
       "  <th>Skew:</th>          <td> 0.306</td>  <th>  Prob(JB):          </th> <td>    0.00</td>\n",
       "</tr>\n",
       "<tr>\n",
       "  <th>Kurtosis:</th>      <td>11.956</td>  <th>  Cond. No.          </th> <td>    179.</td>\n",
       "</tr>\n",
       "</table><br/><br/>Notes:<br/>[1] Standard Errors assume that the covariance matrix of the errors is correctly specified."
      ],
      "text/latex": [
       "\\begin{center}\n",
       "\\begin{tabular}{lclc}\n",
       "\\toprule\n",
       "\\textbf{Dep. Variable:}    &      close       & \\textbf{  R-squared:         } &     1.000   \\\\\n",
       "\\textbf{Model:}            &       OLS        & \\textbf{  Adj. R-squared:    } &     1.000   \\\\\n",
       "\\textbf{Method:}           &  Least Squares   & \\textbf{  F-statistic:       } & 2.418e+06   \\\\\n",
       "\\textbf{Date:}             & Wed, 29 Nov 2023 & \\textbf{  Prob (F-statistic):} &     0.00    \\\\\n",
       "\\textbf{Time:}             &     22:11:59     & \\textbf{  Log-Likelihood:    } &    7284.5   \\\\\n",
       "\\textbf{No. Observations:} &        2498      & \\textbf{  AIC:               } & -1.456e+04  \\\\\n",
       "\\textbf{Df Residuals:}     &        2491      & \\textbf{  BIC:               } & -1.451e+04  \\\\\n",
       "\\textbf{Df Model:}         &           6      & \\textbf{                     } &             \\\\\n",
       "\\textbf{Covariance Type:}  &    nonrobust     & \\textbf{                     } &             \\\\\n",
       "\\bottomrule\n",
       "\\end{tabular}\n",
       "\\begin{tabular}{lcccccc}\n",
       "                    & \\textbf{coef} & \\textbf{std err} & \\textbf{t} & \\textbf{P$> |$t$|$} & \\textbf{[0.025} & \\textbf{0.975]}  \\\\\n",
       "\\midrule\n",
       "\\textbf{Intercept}  &    1.518e-16  &        0.000     &  5.78e-13  &         1.000        &       -0.001    &        0.001     \\\\\n",
       "\\textbf{open}       &      -0.7196  &        0.016     &   -44.126  &         0.000        &       -0.752    &       -0.688     \\\\\n",
       "\\textbf{high}       &       0.9034  &        0.016     &    57.440  &         0.000        &        0.873    &        0.934     \\\\\n",
       "\\textbf{effr}       &      -0.0008  &        0.001     &    -1.183  &         0.237        &       -0.002    &        0.000     \\\\\n",
       "\\textbf{low}        &       0.8136  &        0.012     &    65.486  &         0.000        &        0.789    &        0.838     \\\\\n",
       "\\textbf{gdp}        &       0.0017  &        0.002     &     0.853  &         0.394        &       -0.002    &        0.006     \\\\\n",
       "\\textbf{acwi\\_open} &       0.0013  &        0.002     &     0.594  &         0.552        &       -0.003    &        0.006     \\\\\n",
       "\\bottomrule\n",
       "\\end{tabular}\n",
       "\\begin{tabular}{lclc}\n",
       "\\textbf{Omnibus:}       & 456.021 & \\textbf{  Durbin-Watson:     } &    2.096  \\\\\n",
       "\\textbf{Prob(Omnibus):} &   0.000 & \\textbf{  Jarque-Bera (JB):  } & 8386.911  \\\\\n",
       "\\textbf{Skew:}          &   0.306 & \\textbf{  Prob(JB):          } &     0.00  \\\\\n",
       "\\textbf{Kurtosis:}      &  11.956 & \\textbf{  Cond. No.          } &     179.  \\\\\n",
       "\\bottomrule\n",
       "\\end{tabular}\n",
       "%\\caption{OLS Regression Results}\n",
       "\\end{center}\n",
       "\n",
       "Notes: \\newline\n",
       " [1] Standard Errors assume that the covariance matrix of the errors is correctly specified."
      ],
      "text/plain": [
       "<class 'statsmodels.iolib.summary.Summary'>\n",
       "\"\"\"\n",
       "                            OLS Regression Results                            \n",
       "==============================================================================\n",
       "Dep. Variable:                  close   R-squared:                       1.000\n",
       "Model:                            OLS   Adj. R-squared:                  1.000\n",
       "Method:                 Least Squares   F-statistic:                 2.418e+06\n",
       "Date:                Wed, 29 Nov 2023   Prob (F-statistic):               0.00\n",
       "Time:                        22:11:59   Log-Likelihood:                 7284.5\n",
       "No. Observations:                2498   AIC:                        -1.456e+04\n",
       "Df Residuals:                    2491   BIC:                        -1.451e+04\n",
       "Df Model:                           6                                         \n",
       "Covariance Type:            nonrobust                                         \n",
       "==============================================================================\n",
       "                 coef    std err          t      P>|t|      [0.025      0.975]\n",
       "------------------------------------------------------------------------------\n",
       "Intercept   1.518e-16      0.000   5.78e-13      1.000      -0.001       0.001\n",
       "open          -0.7196      0.016    -44.126      0.000      -0.752      -0.688\n",
       "high           0.9034      0.016     57.440      0.000       0.873       0.934\n",
       "effr          -0.0008      0.001     -1.183      0.237      -0.002       0.000\n",
       "low            0.8136      0.012     65.486      0.000       0.789       0.838\n",
       "gdp            0.0017      0.002      0.853      0.394      -0.002       0.006\n",
       "acwi_open      0.0013      0.002      0.594      0.552      -0.003       0.006\n",
       "==============================================================================\n",
       "Omnibus:                      456.021   Durbin-Watson:                   2.096\n",
       "Prob(Omnibus):                  0.000   Jarque-Bera (JB):             8386.911\n",
       "Skew:                           0.306   Prob(JB):                         0.00\n",
       "Kurtosis:                      11.956   Cond. No.                         179.\n",
       "==============================================================================\n",
       "\n",
       "Notes:\n",
       "[1] Standard Errors assume that the covariance matrix of the errors is correctly specified.\n",
       "\"\"\""
      ]
     },
     "execution_count": 62,
     "metadata": {},
     "output_type": "execute_result"
    }
   ],
   "source": [
    "import statsmodels.formula.api as smf \n",
    "lin_reg_model = smf.ols(formula='close~open+high+effr+low+gdp+acwi_open',\n",
    "                                       data=dataset).fit()\n",
    "lin_reg_model.summary()\n"
   ]
  },
  {
   "cell_type": "code",
   "execution_count": 63,
   "metadata": {},
   "outputs": [
    {
     "data": {
      "text/html": [
       "<table class=\"simpletable\">\n",
       "<caption>OLS Regression Results</caption>\n",
       "<tr>\n",
       "  <th>Dep. Variable:</th>          <td>close</td>      <th>  R-squared:         </th>  <td>   0.999</td> \n",
       "</tr>\n",
       "<tr>\n",
       "  <th>Model:</th>                   <td>OLS</td>       <th>  Adj. R-squared:    </th>  <td>   0.999</td> \n",
       "</tr>\n",
       "<tr>\n",
       "  <th>Method:</th>             <td>Least Squares</td>  <th>  F-statistic:       </th>  <td>6.460e+05</td>\n",
       "</tr>\n",
       "<tr>\n",
       "  <th>Date:</th>             <td>Wed, 29 Nov 2023</td> <th>  Prob (F-statistic):</th>   <td>  0.00</td>  \n",
       "</tr>\n",
       "<tr>\n",
       "  <th>Time:</th>                 <td>22:11:59</td>     <th>  Log-Likelihood:    </th>  <td>  5129.3</td> \n",
       "</tr>\n",
       "<tr>\n",
       "  <th>No. Observations:</th>      <td>  2498</td>      <th>  AIC:               </th> <td>-1.025e+04</td>\n",
       "</tr>\n",
       "<tr>\n",
       "  <th>Df Residuals:</th>          <td>  2493</td>      <th>  BIC:               </th> <td>-1.022e+04</td>\n",
       "</tr>\n",
       "<tr>\n",
       "  <th>Df Model:</th>              <td>     4</td>      <th>                     </th>      <td> </td>    \n",
       "</tr>\n",
       "<tr>\n",
       "  <th>Covariance Type:</th>      <td>nonrobust</td>    <th>                     </th>      <td> </td>    \n",
       "</tr>\n",
       "</table>\n",
       "<table class=\"simpletable\">\n",
       "<tr>\n",
       "      <td></td>         <th>coef</th>     <th>std err</th>      <th>t</th>      <th>P>|t|</th>  <th>[0.025</th>    <th>0.975]</th>  \n",
       "</tr>\n",
       "<tr>\n",
       "  <th>Intercept</th> <td> 1.518e-16</td> <td>    0.001</td> <td> 2.44e-13</td> <td> 1.000</td> <td>   -0.001</td> <td>    0.001</td>\n",
       "</tr>\n",
       "<tr>\n",
       "  <th>open</th>      <td>    0.9542</td> <td>    0.008</td> <td>  116.931</td> <td> 0.000</td> <td>    0.938</td> <td>    0.970</td>\n",
       "</tr>\n",
       "<tr>\n",
       "  <th>effr</th>      <td>   -0.0052</td> <td>    0.001</td> <td>   -3.758</td> <td> 0.000</td> <td>   -0.008</td> <td>   -0.002</td>\n",
       "</tr>\n",
       "<tr>\n",
       "  <th>gdp</th>       <td>    0.0238</td> <td>    0.004</td> <td>    5.380</td> <td> 0.000</td> <td>    0.015</td> <td>    0.033</td>\n",
       "</tr>\n",
       "<tr>\n",
       "  <th>acwi_open</th> <td>    0.0256</td> <td>    0.005</td> <td>    4.931</td> <td> 0.000</td> <td>    0.015</td> <td>    0.036</td>\n",
       "</tr>\n",
       "</table>\n",
       "<table class=\"simpletable\">\n",
       "<tr>\n",
       "  <th>Omnibus:</th>       <td>324.470</td> <th>  Durbin-Watson:     </th> <td>   2.114</td>\n",
       "</tr>\n",
       "<tr>\n",
       "  <th>Prob(Omnibus):</th> <td> 0.000</td>  <th>  Jarque-Bera (JB):  </th> <td>1993.425</td>\n",
       "</tr>\n",
       "<tr>\n",
       "  <th>Skew:</th>          <td>-0.445</td>  <th>  Prob(JB):          </th> <td>    0.00</td>\n",
       "</tr>\n",
       "<tr>\n",
       "  <th>Kurtosis:</th>      <td> 7.285</td>  <th>  Cond. No.          </th> <td>    29.6</td>\n",
       "</tr>\n",
       "</table><br/><br/>Notes:<br/>[1] Standard Errors assume that the covariance matrix of the errors is correctly specified."
      ],
      "text/latex": [
       "\\begin{center}\n",
       "\\begin{tabular}{lclc}\n",
       "\\toprule\n",
       "\\textbf{Dep. Variable:}    &      close       & \\textbf{  R-squared:         } &     0.999   \\\\\n",
       "\\textbf{Model:}            &       OLS        & \\textbf{  Adj. R-squared:    } &     0.999   \\\\\n",
       "\\textbf{Method:}           &  Least Squares   & \\textbf{  F-statistic:       } & 6.460e+05   \\\\\n",
       "\\textbf{Date:}             & Wed, 29 Nov 2023 & \\textbf{  Prob (F-statistic):} &     0.00    \\\\\n",
       "\\textbf{Time:}             &     22:11:59     & \\textbf{  Log-Likelihood:    } &    5129.3   \\\\\n",
       "\\textbf{No. Observations:} &        2498      & \\textbf{  AIC:               } & -1.025e+04  \\\\\n",
       "\\textbf{Df Residuals:}     &        2493      & \\textbf{  BIC:               } & -1.022e+04  \\\\\n",
       "\\textbf{Df Model:}         &           4      & \\textbf{                     } &             \\\\\n",
       "\\textbf{Covariance Type:}  &    nonrobust     & \\textbf{                     } &             \\\\\n",
       "\\bottomrule\n",
       "\\end{tabular}\n",
       "\\begin{tabular}{lcccccc}\n",
       "                    & \\textbf{coef} & \\textbf{std err} & \\textbf{t} & \\textbf{P$> |$t$|$} & \\textbf{[0.025} & \\textbf{0.975]}  \\\\\n",
       "\\midrule\n",
       "\\textbf{Intercept}  &    1.518e-16  &        0.001     &  2.44e-13  &         1.000        &       -0.001    &        0.001     \\\\\n",
       "\\textbf{open}       &       0.9542  &        0.008     &   116.931  &         0.000        &        0.938    &        0.970     \\\\\n",
       "\\textbf{effr}       &      -0.0052  &        0.001     &    -3.758  &         0.000        &       -0.008    &       -0.002     \\\\\n",
       "\\textbf{gdp}        &       0.0238  &        0.004     &     5.380  &         0.000        &        0.015    &        0.033     \\\\\n",
       "\\textbf{acwi\\_open} &       0.0256  &        0.005     &     4.931  &         0.000        &        0.015    &        0.036     \\\\\n",
       "\\bottomrule\n",
       "\\end{tabular}\n",
       "\\begin{tabular}{lclc}\n",
       "\\textbf{Omnibus:}       & 324.470 & \\textbf{  Durbin-Watson:     } &    2.114  \\\\\n",
       "\\textbf{Prob(Omnibus):} &   0.000 & \\textbf{  Jarque-Bera (JB):  } & 1993.425  \\\\\n",
       "\\textbf{Skew:}          &  -0.445 & \\textbf{  Prob(JB):          } &     0.00  \\\\\n",
       "\\textbf{Kurtosis:}      &   7.285 & \\textbf{  Cond. No.          } &     29.6  \\\\\n",
       "\\bottomrule\n",
       "\\end{tabular}\n",
       "%\\caption{OLS Regression Results}\n",
       "\\end{center}\n",
       "\n",
       "Notes: \\newline\n",
       " [1] Standard Errors assume that the covariance matrix of the errors is correctly specified."
      ],
      "text/plain": [
       "<class 'statsmodels.iolib.summary.Summary'>\n",
       "\"\"\"\n",
       "                            OLS Regression Results                            \n",
       "==============================================================================\n",
       "Dep. Variable:                  close   R-squared:                       0.999\n",
       "Model:                            OLS   Adj. R-squared:                  0.999\n",
       "Method:                 Least Squares   F-statistic:                 6.460e+05\n",
       "Date:                Wed, 29 Nov 2023   Prob (F-statistic):               0.00\n",
       "Time:                        22:11:59   Log-Likelihood:                 5129.3\n",
       "No. Observations:                2498   AIC:                        -1.025e+04\n",
       "Df Residuals:                    2493   BIC:                        -1.022e+04\n",
       "Df Model:                           4                                         \n",
       "Covariance Type:            nonrobust                                         \n",
       "==============================================================================\n",
       "                 coef    std err          t      P>|t|      [0.025      0.975]\n",
       "------------------------------------------------------------------------------\n",
       "Intercept   1.518e-16      0.001   2.44e-13      1.000      -0.001       0.001\n",
       "open           0.9542      0.008    116.931      0.000       0.938       0.970\n",
       "effr          -0.0052      0.001     -3.758      0.000      -0.008      -0.002\n",
       "gdp            0.0238      0.004      5.380      0.000       0.015       0.033\n",
       "acwi_open      0.0256      0.005      4.931      0.000       0.015       0.036\n",
       "==============================================================================\n",
       "Omnibus:                      324.470   Durbin-Watson:                   2.114\n",
       "Prob(Omnibus):                  0.000   Jarque-Bera (JB):             1993.425\n",
       "Skew:                          -0.445   Prob(JB):                         0.00\n",
       "Kurtosis:                       7.285   Cond. No.                         29.6\n",
       "==============================================================================\n",
       "\n",
       "Notes:\n",
       "[1] Standard Errors assume that the covariance matrix of the errors is correctly specified.\n",
       "\"\"\""
      ]
     },
     "execution_count": 63,
     "metadata": {},
     "output_type": "execute_result"
    }
   ],
   "source": [
    "lin_reg_model = smf.ols(formula='close~open+effr+gdp+acwi_open',\n",
    "                                       data=dataset).fit()\n",
    "lin_reg_model.summary()"
   ]
  }
 ],
 "metadata": {
  "kernelspec": {
   "display_name": "python310",
   "language": "python",
   "name": "python3"
  },
  "language_info": {
   "codemirror_mode": {
    "name": "ipython",
    "version": 3
   },
   "file_extension": ".py",
   "mimetype": "text/x-python",
   "name": "python",
   "nbconvert_exporter": "python",
   "pygments_lexer": "ipython3",
   "version": "3.11.4"
  }
 },
 "nbformat": 4,
 "nbformat_minor": 2
}
