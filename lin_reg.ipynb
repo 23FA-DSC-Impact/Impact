{
 "cells": [
  {
   "cell_type": "code",
   "execution_count": 26,
   "metadata": {},
   "outputs": [],
   "source": [
    "import numpy as np\n",
    "import pandas as pd\n",
    "import os"
   ]
  },
  {
   "cell_type": "code",
   "execution_count": 27,
   "metadata": {},
   "outputs": [],
   "source": [
    "import warnings\n",
    "warnings.filterwarnings(\"ignore\")"
   ]
  },
  {
   "cell_type": "markdown",
   "metadata": {},
   "source": [
    "# Read raw data"
   ]
  },
  {
   "cell_type": "code",
   "execution_count": 28,
   "metadata": {},
   "outputs": [],
   "source": [
    "dir_main = os.getcwd()\n",
    "dir_raw_data = os.path.join(dir_main)"
   ]
  },
  {
   "cell_type": "markdown",
   "metadata": {},
   "source": [
    "## S&P500"
   ]
  },
  {
   "cell_type": "code",
   "execution_count": 29,
   "metadata": {},
   "outputs": [],
   "source": [
    "sp = pd.read_csv(os.path.join(dir_raw_data, \"sp500.csv\"),\n",
    "                sep=\",\",\n",
    "                header=0,\n",
    "                dtype={\"Date\": object, \"Close/Last\": float,\n",
    "                       \"Open\": float, \"High\": float, \"Low\": float})"
   ]
  },
  {
   "cell_type": "code",
   "execution_count": 30,
   "metadata": {},
   "outputs": [],
   "source": [
    "# Rename columns for readability\n",
    "sp.rename(columns={\"Date\": 'date', \"Close/Last\": 'close',\n",
    "                   \"Open\": 'open', \"High\": 'high', \"Low\": 'low'},\n",
    "                   inplace=True)\n",
    "\n",
    "# Set date column's data type\n",
    "sp['date'] = pd.to_datetime(sp['date'])\n",
    "\n",
    "# Sort rows by ascending order of date\n",
    "sp = sp.sort_values('date')"
   ]
  },
  {
   "cell_type": "code",
   "execution_count": 31,
   "metadata": {},
   "outputs": [
    {
     "name": "stdout",
     "output_type": "stream",
     "text": [
      "<class 'pandas.core.frame.DataFrame'>\n",
      "Index: 2536 entries, 2535 to 0\n",
      "Data columns (total 5 columns):\n",
      " #   Column  Non-Null Count  Dtype         \n",
      "---  ------  --------------  -----         \n",
      " 0   date    2536 non-null   datetime64[ns]\n",
      " 1   close   2536 non-null   float64       \n",
      " 2   open    2536 non-null   float64       \n",
      " 3   high    2536 non-null   float64       \n",
      " 4   low     2536 non-null   float64       \n",
      "dtypes: datetime64[ns](1), float64(4)\n",
      "memory usage: 118.9 KB\n"
     ]
    }
   ],
   "source": [
    "# Count null values\n",
    "sp.info()"
   ]
  },
  {
   "cell_type": "code",
   "execution_count": 32,
   "metadata": {},
   "outputs": [
    {
     "name": "stdout",
     "output_type": "stream",
     "text": [
      "First date:\t2013-11-13 00:00:00\n",
      "Latest date:\t2023-11-10 00:00:00\n"
     ]
    }
   ],
   "source": [
    "# Confirm first and last date\n",
    "print(\"First date:\\t\", sp['date'].iloc[0], sep=\"\")\n",
    "print(\"Latest date:\\t\", sp['date'].iloc[-1], sep=\"\")"
   ]
  },
  {
   "cell_type": "markdown",
   "metadata": {},
   "source": [
    "## Effective Federal Reserve Fund Rate"
   ]
  },
  {
   "cell_type": "code",
   "execution_count": 33,
   "metadata": {},
   "outputs": [],
   "source": [
    "effr = pd.read_csv(os.path.join(dir_raw_data, \"EFFR.csv\"),\n",
    "                   sep=\",\",\n",
    "                   header=0,\n",
    "                   dtype={\"DATE\": object, \"EFFR\": float},\n",
    "                   na_values=[\".\"]\n",
    "                   )"
   ]
  },
  {
   "cell_type": "code",
   "execution_count": 34,
   "metadata": {},
   "outputs": [],
   "source": [
    "# Rename columns for readability\n",
    "effr.rename(columns={\"DATE\": 'date', \"EFFR\": 'effr'}, inplace=True)\n",
    "\n",
    "# Set date column's data type\n",
    "effr['date'] = pd.to_datetime(effr['date'])\n",
    "\n",
    "# Sort rows by ascending order of date\n",
    "effr = effr.sort_values('date')"
   ]
  },
  {
   "cell_type": "code",
   "execution_count": 35,
   "metadata": {},
   "outputs": [
    {
     "name": "stdout",
     "output_type": "stream",
     "text": [
      "<class 'pandas.core.frame.DataFrame'>\n",
      "RangeIndex: 24733 entries, 0 to 24732\n",
      "Data columns (total 2 columns):\n",
      " #   Column  Non-Null Count  Dtype         \n",
      "---  ------  --------------  -----         \n",
      " 0   date    24733 non-null  datetime64[ns]\n",
      " 1   effr    24712 non-null  float64       \n",
      "dtypes: datetime64[ns](1), float64(1)\n",
      "memory usage: 386.6 KB\n"
     ]
    }
   ],
   "source": [
    "# Count null values\n",
    "effr.info()"
   ]
  },
  {
   "cell_type": "code",
   "execution_count": 36,
   "metadata": {},
   "outputs": [],
   "source": [
    "# Get list of null dates\n",
    "null_dates = effr['date'][effr['effr'].isna()]"
   ]
  },
  {
   "cell_type": "code",
   "execution_count": 37,
   "metadata": {},
   "outputs": [
    {
     "name": "stdout",
     "output_type": "stream",
     "text": [
      "First date:\t1954-07-01 00:00:00\n",
      "Latest date:\t2023-11-30 00:00:00\n"
     ]
    }
   ],
   "source": [
    "# Confirm first and last date\n",
    "print(\"First date:\\t\", effr['date'].iloc[0], sep=\"\")\n",
    "print(\"Latest date:\\t\", effr['date'].iloc[-1], sep=\"\")"
   ]
  },
  {
   "cell_type": "markdown",
   "metadata": {},
   "source": [
    "## US GDP"
   ]
  },
  {
   "cell_type": "code",
   "execution_count": 38,
   "metadata": {},
   "outputs": [],
   "source": [
    "gdp = pd.read_csv(os.path.join(dir_raw_data, \"GDP.csv\"),\n",
    "                  sep=\",\",\n",
    "                  header=0,\n",
    "                  dtype={\"DATE\": object, \"GDP\": float})"
   ]
  },
  {
   "cell_type": "code",
   "execution_count": 39,
   "metadata": {},
   "outputs": [],
   "source": [
    "# Rename columns for readability\n",
    "gdp.rename(columns={\"DATE\": \"date\", \"GDP\": \"gdp\"}, inplace=True)\n",
    "\n",
    "# Set date column's data type\n",
    "gdp['date'] = pd.to_datetime(gdp['date'])\n",
    "\n",
    "# Sort rows by ascending order of date\n",
    "gdp = gdp.sort_values('date')"
   ]
  },
  {
   "cell_type": "code",
   "execution_count": 40,
   "metadata": {},
   "outputs": [
    {
     "name": "stdout",
     "output_type": "stream",
     "text": [
      "<class 'pandas.core.frame.DataFrame'>\n",
      "RangeIndex: 307 entries, 0 to 306\n",
      "Data columns (total 2 columns):\n",
      " #   Column  Non-Null Count  Dtype         \n",
      "---  ------  --------------  -----         \n",
      " 0   date    307 non-null    datetime64[ns]\n",
      " 1   gdp     307 non-null    float64       \n",
      "dtypes: datetime64[ns](1), float64(1)\n",
      "memory usage: 4.9 KB\n"
     ]
    }
   ],
   "source": [
    "# Count null values\n",
    "gdp.info()"
   ]
  },
  {
   "cell_type": "code",
   "execution_count": 41,
   "metadata": {},
   "outputs": [
    {
     "name": "stdout",
     "output_type": "stream",
     "text": [
      "First date:\t1947-01-01 00:00:00\n",
      "Latest date:\t2023-07-01 00:00:00\n"
     ]
    }
   ],
   "source": [
    "# Confirm first and last date\n",
    "print(\"First date:\\t\", gdp['date'].iloc[0], sep=\"\")\n",
    "print(\"Latest date:\\t\", gdp['date'].iloc[-1], sep=\"\")"
   ]
  },
  {
   "cell_type": "markdown",
   "metadata": {},
   "source": [
    "## MSCI ACWI ETF"
   ]
  },
  {
   "cell_type": "code",
   "execution_count": 42,
   "metadata": {},
   "outputs": [],
   "source": [
    "acwi = pd.read_csv(os.path.join(dir_raw_data, \"ACWI.csv\"),\n",
    "                  sep=\",\",\n",
    "                  header=0,\n",
    "                  dtype={\"Date\": object, \"Open\": float, \"High\": float,\n",
    "                         \"Low\": float, \"Close\": float,\n",
    "                         \"Adj Close\": float, \"Volume\": float})"
   ]
  },
  {
   "cell_type": "code",
   "execution_count": 43,
   "metadata": {},
   "outputs": [],
   "source": [
    "# Remove unnecessary columns\n",
    "acwi = acwi[['Date', 'Adj Close']]\n",
    "\n",
    "# Rename columns for readability\n",
    "acwi.rename(columns={\"Date\": \"date\", \"Adj Close\": \"acwi_adj_close\"}, inplace=True)\n",
    "\n",
    "# Set date column's data type\n",
    "acwi['date'] = pd.to_datetime(acwi['date'])\n",
    "\n",
    "# Sort rows by ascending order of date\n",
    "acwi = acwi.sort_values('date')"
   ]
  },
  {
   "cell_type": "code",
   "execution_count": 44,
   "metadata": {},
   "outputs": [
    {
     "name": "stdout",
     "output_type": "stream",
     "text": [
      "<class 'pandas.core.frame.DataFrame'>\n",
      "RangeIndex: 251 entries, 0 to 250\n",
      "Data columns (total 2 columns):\n",
      " #   Column          Non-Null Count  Dtype         \n",
      "---  ------          --------------  -----         \n",
      " 0   date            251 non-null    datetime64[ns]\n",
      " 1   acwi_adj_close  251 non-null    float64       \n",
      "dtypes: datetime64[ns](1), float64(1)\n",
      "memory usage: 4.1 KB\n"
     ]
    }
   ],
   "source": [
    "acwi.info()"
   ]
  },
  {
   "cell_type": "code",
   "execution_count": 45,
   "metadata": {},
   "outputs": [
    {
     "name": "stdout",
     "output_type": "stream",
     "text": [
      "First date:\t2022-11-14 00:00:00\n",
      "Latest date:\t2023-11-13 00:00:00\n"
     ]
    }
   ],
   "source": [
    "# Confirm first and last date\n",
    "print(\"First date:\\t\", acwi['date'].iloc[0], sep=\"\")\n",
    "print(\"Latest date:\\t\", acwi['date'].iloc[-1], sep=\"\")"
   ]
  },
  {
   "cell_type": "markdown",
   "metadata": {},
   "source": [
    "## Dataset summary"
   ]
  },
  {
   "cell_type": "markdown",
   "metadata": {},
   "source": [
    "#### S&P500 Dataset\n",
    "* 2538 rows\n",
    "* From `2013-11-11` to `2023-11-10`\n",
    "* `Daily` basis\n",
    "* Schema: `['date', 'close', 'open', 'high', 'low']`\n",
    "* no null value"
   ]
  },
  {
   "cell_type": "markdown",
   "metadata": {},
   "source": [
    "#### Effective Federal Reserve Fund Rate\n",
    "* 2608 rows\n",
    "* From `2013-11-12` to `2023-11-09`\n",
    "* `Daily` basis\n",
    "* Schema: `['date', 'effr']`\n",
    "* effr has 96 null values for holidays or other days.\n",
    "    * These dates will be removed from every datasets."
   ]
  },
  {
   "cell_type": "markdown",
   "metadata": {},
   "source": [
    "#### US GDP\n",
    "* 40 rows\n",
    "* From `2013-10-01` to `2023-07-01`\n",
    "* `Quarterly` basis\n",
    "    * Latest quarterly GDP value will be used for each given date.\n",
    "* Schema: `['date', 'gdp']`\n",
    "* no null value"
   ]
  },
  {
   "cell_type": "markdown",
   "metadata": {},
   "source": [
    "#### MSCI ACWI ETF\n",
    "* 2547 rows\n",
    "* From `2013-10-01` to `2023-11-10`\n",
    "* `Daily` basis\n",
    "* Schema: `['date', 'acwi_adj_close']`\n",
    "* no null value"
   ]
  },
  {
   "cell_type": "markdown",
   "metadata": {},
   "source": [
    "# Combine(Join) Dataset"
   ]
  },
  {
   "cell_type": "markdown",
   "metadata": {},
   "source": [
    "## Schema of cleaned data\n",
    "`['date', 'close', 'open', 'high', 'low', 'effr', 'gdp', 'acwi_adj_close']`\n",
    "* `date`: every date in `S&P500`, but from `2013-11-12` to `2023-11-09`\n",
    "    * The earliest and latest dates are bounded by EFFR data\n",
    "* `close`, `open`, `high`, `low`: data from `S&P500`\n",
    "* `effr`: data from `Effective Federal Reserve Fund Rate`\n",
    "* `gdp`: data from `US GDP`\n",
    "* `acwi_adj_close`: Adjusted closing price from `Adjusted Close` in `MSCI ACWI`\n"
   ]
  },
  {
   "cell_type": "code",
   "execution_count": 46,
   "metadata": {},
   "outputs": [],
   "source": [
    "# Generate valid date pd.series\n",
    "valid_date = sp['date']\n",
    "mask_validDate = (valid_date >= pd.to_datetime('2013-11-12')) &\\\n",
    "                 (valid_date <= pd.to_datetime('2023-11-09')) &\\\n",
    "                 (~valid_date.isin(null_dates))\n",
    "valid_date = valid_date[mask_validDate]"
   ]
  },
  {
   "cell_type": "code",
   "execution_count": 47,
   "metadata": {},
   "outputs": [],
   "source": [
    "# Change US GDP from quarterly to daily values\n"
   ]
  },
  {
   "cell_type": "code",
   "execution_count": 48,
   "metadata": {},
   "outputs": [],
   "source": [
    "# Merge with S&P500\n",
    "dataset = pd.merge(valid_date, sp, on='date', how='inner')\n",
    "\n",
    "# Merge with US GDP; apply latest quarterly GDP at any given date\n",
    "dataset = pd.merge_asof(dataset, gdp, on='date', direction='backward')\n",
    "\n",
    "# Merge with Effective Federal Fund Rate\n",
    "dataset = pd.merge(dataset, effr, on='date', how='inner')\n",
    "\n",
    "# Merge with MSCI ACWI ETF\n",
    "dataset = pd.merge(dataset, acwi, on='date', how='inner')"
   ]
  },
  {
   "cell_type": "markdown",
   "metadata": {},
   "source": [
    "### Normalize each column"
   ]
  },
  {
   "cell_type": "code",
   "execution_count": 49,
   "metadata": {},
   "outputs": [],
   "source": [
    "from sklearn.preprocessing import StandardScaler"
   ]
  },
  {
   "cell_type": "code",
   "execution_count": 50,
   "metadata": {},
   "outputs": [],
   "source": [
    "# Standardization for every column except date\n",
    "scaler = StandardScaler()\n",
    "columns_to_standardize = dataset.columns.drop('date')\n",
    "dataset[columns_to_standardize] = scaler.fit_transform(dataset[columns_to_standardize])"
   ]
  },
  {
   "cell_type": "code",
   "execution_count": 51,
   "metadata": {},
   "outputs": [
    {
     "name": "stdout",
     "output_type": "stream",
     "text": [
      "<class 'pandas.core.frame.DataFrame'>\n",
      "RangeIndex: 248 entries, 0 to 247\n",
      "Data columns (total 8 columns):\n",
      " #   Column          Non-Null Count  Dtype         \n",
      "---  ------          --------------  -----         \n",
      " 0   date            248 non-null    datetime64[ns]\n",
      " 1   close           248 non-null    float64       \n",
      " 2   open            248 non-null    float64       \n",
      " 3   high            248 non-null    float64       \n",
      " 4   low             248 non-null    float64       \n",
      " 5   gdp             248 non-null    float64       \n",
      " 6   effr            248 non-null    float64       \n",
      " 7   acwi_adj_close  248 non-null    float64       \n",
      "dtypes: datetime64[ns](1), float64(7)\n",
      "memory usage: 15.6 KB\n"
     ]
    }
   ],
   "source": [
    "dataset.info()"
   ]
  },
  {
   "cell_type": "markdown",
   "metadata": {},
   "source": [
    "## Save/Read Dataset"
   ]
  },
  {
   "cell_type": "code",
   "execution_count": 52,
   "metadata": {},
   "outputs": [],
   "source": [
    "dir_main = os.getcwd()\n",
    "dir_prepared_data = os.path.join(dir_main)"
   ]
  },
  {
   "cell_type": "markdown",
   "metadata": {},
   "source": [
    "### Save dataset"
   ]
  },
  {
   "cell_type": "code",
   "execution_count": 53,
   "metadata": {},
   "outputs": [],
   "source": [
    "dataset.to_csv(os.path.join(dir_prepared_data, \"dataset.csv\"),\n",
    "               index=False)"
   ]
  },
  {
   "cell_type": "markdown",
   "metadata": {},
   "source": [
    "### Read dataset"
   ]
  },
  {
   "cell_type": "code",
   "execution_count": 54,
   "metadata": {},
   "outputs": [
    {
     "name": "stdout",
     "output_type": "stream",
     "text": [
      "<class 'pandas.core.frame.DataFrame'>\n",
      "RangeIndex: 248 entries, 0 to 247\n",
      "Data columns (total 8 columns):\n",
      " #   Column          Non-Null Count  Dtype         \n",
      "---  ------          --------------  -----         \n",
      " 0   date            248 non-null    datetime64[ns]\n",
      " 1   close           248 non-null    float64       \n",
      " 2   open            248 non-null    float64       \n",
      " 3   high            248 non-null    float64       \n",
      " 4   low             248 non-null    float64       \n",
      " 5   gdp             248 non-null    float64       \n",
      " 6   effr            248 non-null    float64       \n",
      " 7   acwi_adj_close  248 non-null    float64       \n",
      "dtypes: datetime64[ns](1), float64(7)\n",
      "memory usage: 15.6 KB\n"
     ]
    }
   ],
   "source": [
    "dataset = pd.read_csv(os.path.join(dir_prepared_data, \"dataset.csv\"),\n",
    "                      sep=\",\",\n",
    "                      header=0,\n",
    "                      dtype={\"date\": object, \"close\": float, \"open\": float,\n",
    "                             \"high\": float, \"low\": float,\n",
    "                             \"gdp\": float, \"effr\": float,\n",
    "                             \"acwi_adj_close\": float})\n",
    "dataset['date'] = pd.to_datetime(dataset['date'])\n",
    "dataset.info()"
   ]
  },
  {
   "cell_type": "markdown",
   "metadata": {},
   "source": [
    "Linear Regression Model "
   ]
  },
  {
   "cell_type": "code",
   "execution_count": 56,
   "metadata": {},
   "outputs": [
    {
     "data": {
      "text/html": [
       "<table class=\"simpletable\">\n",
       "<tr>\n",
       "         <td></td>           <th>coef</th>     <th>std err</th>      <th>t</th>      <th>P>|t|</th>  <th>[0.025</th>    <th>0.975]</th>  \n",
       "</tr>\n",
       "<tr>\n",
       "  <th>Intercept</th>      <td> 1.722e-16</td> <td>    0.004</td> <td> 4.74e-14</td> <td> 1.000</td> <td>   -0.007</td> <td>    0.007</td>\n",
       "</tr>\n",
       "<tr>\n",
       "  <th>open</th>           <td>   -0.6562</td> <td>    0.049</td> <td>  -13.360</td> <td> 0.000</td> <td>   -0.753</td> <td>   -0.559</td>\n",
       "</tr>\n",
       "<tr>\n",
       "  <th>high</th>           <td>    0.7484</td> <td>    0.049</td> <td>   15.171</td> <td> 0.000</td> <td>    0.651</td> <td>    0.846</td>\n",
       "</tr>\n",
       "<tr>\n",
       "  <th>effr</th>           <td>   -0.0009</td> <td>    0.009</td> <td>   -0.090</td> <td> 0.928</td> <td>   -0.020</td> <td>    0.018</td>\n",
       "</tr>\n",
       "<tr>\n",
       "  <th>low</th>            <td>    0.8304</td> <td>    0.052</td> <td>   16.023</td> <td> 0.000</td> <td>    0.728</td> <td>    0.933</td>\n",
       "</tr>\n",
       "<tr>\n",
       "  <th>gdp</th>            <td>    0.0099</td> <td>    0.011</td> <td>    0.868</td> <td> 0.386</td> <td>   -0.013</td> <td>    0.032</td>\n",
       "</tr>\n",
       "<tr>\n",
       "  <th>acwi_adj_close</th> <td>    0.0673</td> <td>    0.018</td> <td>    3.746</td> <td> 0.000</td> <td>    0.032</td> <td>    0.103</td>\n",
       "</tr>\n",
       "</table>"
      ],
      "text/latex": [
       "\\begin{center}\n",
       "\\begin{tabular}{lcccccc}\n",
       "\\toprule\n",
       "                          & \\textbf{coef} & \\textbf{std err} & \\textbf{t} & \\textbf{P$> |$t$|$} & \\textbf{[0.025} & \\textbf{0.975]}  \\\\\n",
       "\\midrule\n",
       "\\textbf{Intercept}        &    1.722e-16  &        0.004     &  4.74e-14  &         1.000        &       -0.007    &        0.007     \\\\\n",
       "\\textbf{open}             &      -0.6562  &        0.049     &   -13.360  &         0.000        &       -0.753    &       -0.559     \\\\\n",
       "\\textbf{high}             &       0.7484  &        0.049     &    15.171  &         0.000        &        0.651    &        0.846     \\\\\n",
       "\\textbf{effr}             &      -0.0009  &        0.009     &    -0.090  &         0.928        &       -0.020    &        0.018     \\\\\n",
       "\\textbf{low}              &       0.8304  &        0.052     &    16.023  &         0.000        &        0.728    &        0.933     \\\\\n",
       "\\textbf{gdp}              &       0.0099  &        0.011     &     0.868  &         0.386        &       -0.013    &        0.032     \\\\\n",
       "\\textbf{acwi\\_adj\\_close} &       0.0673  &        0.018     &     3.746  &         0.000        &        0.032    &        0.103     \\\\\n",
       "\\bottomrule\n",
       "\\end{tabular}\n",
       "\\end{center}"
      ],
      "text/plain": [
       "<class 'statsmodels.iolib.table.SimpleTable'>"
      ]
     },
     "execution_count": 56,
     "metadata": {},
     "output_type": "execute_result"
    }
   ],
   "source": [
    "import statsmodels.formula.api as smf \n",
    "small_interaction_term_model = smf.ols(formula='close~open+high+effr+low+gdp+acwi_adj_close',\n",
    "                                       data=dataset).fit()\n",
    "small_interaction_term_model.summary().tables[1]\n"
   ]
  },
  {
   "cell_type": "markdown",
   "metadata": {},
   "source": [
    "Elastic net Lin reg "
   ]
  },
  {
   "cell_type": "code",
   "execution_count": 57,
   "metadata": {},
   "outputs": [],
   "source": [
    "from sklearn.model_selection import train_test_split\n",
    "df_train, df_test = train_test_split(dataset,\n",
    "                                     test_size=0.1,\n",
    "                                     random_state=102)\n",
    "X_train = df_train.drop(['close','date'], axis=1)\n",
    "y_train=df_train['close']\n",
    "X_test = df_test.drop(['close','date'], axis=1)\n",
    "y_test=df_test['close']\n"
   ]
  },
  {
   "cell_type": "markdown",
   "metadata": {},
   "source": [
    "0.01"
   ]
  },
  {
   "cell_type": "code",
   "execution_count": 58,
   "metadata": {},
   "outputs": [
    {
     "data": {
      "text/plain": [
       "0.9956621670912759"
      ]
     },
     "execution_count": 58,
     "metadata": {},
     "output_type": "execute_result"
    }
   ],
   "source": [
    "from sklearn.linear_model import ElasticNet\n",
    "en_mod_1 = ElasticNet(alpha=.01, l1_ratio=0.7)\n",
    "en_mod_1.fit(X_train, y_train)\n",
    "en_mod_1.score(X_test, y_test)"
   ]
  },
  {
   "cell_type": "markdown",
   "metadata": {},
   "source": [
    "0.025"
   ]
  },
  {
   "cell_type": "code",
   "execution_count": 59,
   "metadata": {},
   "outputs": [
    {
     "data": {
      "text/plain": [
       "0.9953441781495647"
      ]
     },
     "execution_count": 59,
     "metadata": {},
     "output_type": "execute_result"
    }
   ],
   "source": [
    "en_mod_2 = ElasticNet(alpha=.025, l1_ratio=0.7)\n",
    "en_mod_2.fit(X_train, y_train)\n",
    "en_mod_2.score(X_test, y_test)"
   ]
  },
  {
   "cell_type": "markdown",
   "metadata": {},
   "source": [
    "0.05"
   ]
  },
  {
   "cell_type": "code",
   "execution_count": 60,
   "metadata": {},
   "outputs": [
    {
     "data": {
      "text/plain": [
       "0.9937317985630174"
      ]
     },
     "execution_count": 60,
     "metadata": {},
     "output_type": "execute_result"
    }
   ],
   "source": [
    "en_mod_3 = ElasticNet(alpha=.05, l1_ratio=0.7)\n",
    "en_mod_3.fit(X_train, y_train)\n",
    "en_mod_3.score(X_test, y_test)"
   ]
  },
  {
   "cell_type": "markdown",
   "metadata": {},
   "source": [
    "0.1"
   ]
  },
  {
   "cell_type": "code",
   "execution_count": 61,
   "metadata": {},
   "outputs": [
    {
     "data": {
      "text/plain": [
       "0.9886807003642093"
      ]
     },
     "execution_count": 61,
     "metadata": {},
     "output_type": "execute_result"
    }
   ],
   "source": [
    "en_mod_4 = ElasticNet(alpha=.1, l1_ratio=0.7)\n",
    "en_mod_4.fit(X_train, y_train)\n",
    "en_mod_4.score(X_test, y_test)"
   ]
  },
  {
   "cell_type": "code",
   "execution_count": 62,
   "metadata": {},
   "outputs": [
    {
     "data": {
      "text/html": [
       "<div>\n",
       "<style scoped>\n",
       "    .dataframe tbody tr th:only-of-type {\n",
       "        vertical-align: middle;\n",
       "    }\n",
       "\n",
       "    .dataframe tbody tr th {\n",
       "        vertical-align: top;\n",
       "    }\n",
       "\n",
       "    .dataframe thead th {\n",
       "        text-align: right;\n",
       "    }\n",
       "</style>\n",
       "<table border=\"1\" class=\"dataframe\">\n",
       "  <thead>\n",
       "    <tr style=\"text-align: right;\">\n",
       "      <th></th>\n",
       "      <th>lin_reg_mod</th>\n",
       "      <th>en_mod_1</th>\n",
       "      <th>en_mod_2</th>\n",
       "      <th>en_mod_3</th>\n",
       "      <th>en_mod_4</th>\n",
       "    </tr>\n",
       "  </thead>\n",
       "  <tbody>\n",
       "    <tr>\n",
       "      <th>open</th>\n",
       "      <td>&lt;statsmodels.regression.linear_model.Regressio...</td>\n",
       "      <td>0.000000</td>\n",
       "      <td>0.000000</td>\n",
       "      <td>0.073872</td>\n",
       "      <td>0.142449</td>\n",
       "    </tr>\n",
       "    <tr>\n",
       "      <th>high</th>\n",
       "      <td>&lt;statsmodels.regression.linear_model.Regressio...</td>\n",
       "      <td>0.403721</td>\n",
       "      <td>0.394213</td>\n",
       "      <td>0.341876</td>\n",
       "      <td>0.290690</td>\n",
       "    </tr>\n",
       "    <tr>\n",
       "      <th>low</th>\n",
       "      <td>&lt;statsmodels.regression.linear_model.Regressio...</td>\n",
       "      <td>0.415814</td>\n",
       "      <td>0.401804</td>\n",
       "      <td>0.349887</td>\n",
       "      <td>0.296793</td>\n",
       "    </tr>\n",
       "    <tr>\n",
       "      <th>gdp</th>\n",
       "      <td>&lt;statsmodels.regression.linear_model.Regressio...</td>\n",
       "      <td>0.005356</td>\n",
       "      <td>0.006238</td>\n",
       "      <td>0.004226</td>\n",
       "      <td>0.000000</td>\n",
       "    </tr>\n",
       "    <tr>\n",
       "      <th>effr</th>\n",
       "      <td>&lt;statsmodels.regression.linear_model.Regressio...</td>\n",
       "      <td>0.000000</td>\n",
       "      <td>0.000000</td>\n",
       "      <td>0.000000</td>\n",
       "      <td>0.000000</td>\n",
       "    </tr>\n",
       "    <tr>\n",
       "      <th>acwi_adj_close</th>\n",
       "      <td>&lt;statsmodels.regression.linear_model.Regressio...</td>\n",
       "      <td>0.170072</td>\n",
       "      <td>0.181042</td>\n",
       "      <td>0.194102</td>\n",
       "      <td>0.195458</td>\n",
       "    </tr>\n",
       "  </tbody>\n",
       "</table>\n",
       "</div>"
      ],
      "text/plain": [
       "                                                      lin_reg_mod  en_mod_1  \\\n",
       "open            <statsmodels.regression.linear_model.Regressio...  0.000000   \n",
       "high            <statsmodels.regression.linear_model.Regressio...  0.403721   \n",
       "low             <statsmodels.regression.linear_model.Regressio...  0.415814   \n",
       "gdp             <statsmodels.regression.linear_model.Regressio...  0.005356   \n",
       "effr            <statsmodels.regression.linear_model.Regressio...  0.000000   \n",
       "acwi_adj_close  <statsmodels.regression.linear_model.Regressio...  0.170072   \n",
       "\n",
       "                en_mod_2  en_mod_3  en_mod_4  \n",
       "open            0.000000  0.073872  0.142449  \n",
       "high            0.394213  0.341876  0.290690  \n",
       "low             0.401804  0.349887  0.296793  \n",
       "gdp             0.006238  0.004226  0.000000  \n",
       "effr            0.000000  0.000000  0.000000  \n",
       "acwi_adj_close  0.181042  0.194102  0.195458  "
      ]
     },
     "execution_count": 62,
     "metadata": {},
     "output_type": "execute_result"
    }
   ],
   "source": [
    "df_slopes = pd.DataFrame({'lin_reg_mod': small_interaction_term_model, \n",
    "                         'en_mod_1': en_mod_1.coef_.T,\n",
    "                         'en_mod_2': en_mod_2.coef_.T,\n",
    "                         'en_mod_3': en_mod_3.coef_.T,\n",
    "                         'en_mod_4': en_mod_4.coef_.T}, index=X_train.columns)\n",
    "df_slopes"
   ]
  },
  {
   "cell_type": "markdown",
   "metadata": {},
   "source": [
    "Log model "
   ]
  },
  {
   "cell_type": "code",
   "execution_count": 63,
   "metadata": {},
   "outputs": [
    {
     "name": "stderr",
     "output_type": "stream",
     "text": [
      "2023-11-16 20:02:14.849211: I tensorflow/core/platform/cpu_feature_guard.cc:182] This TensorFlow binary is optimized to use available CPU instructions in performance-critical operations.\n",
      "To enable the following instructions: AVX2 FMA, in other operations, rebuild TensorFlow with the appropriate compiler flags.\n"
     ]
    }
   ],
   "source": [
    "import tensorflow as tf"
   ]
  }
 ],
 "metadata": {
  "kernelspec": {
   "display_name": "python310",
   "language": "python",
   "name": "python3"
  },
  "language_info": {
   "codemirror_mode": {
    "name": "ipython",
    "version": 3
   },
   "file_extension": ".py",
   "mimetype": "text/x-python",
   "name": "python",
   "nbconvert_exporter": "python",
   "pygments_lexer": "ipython3",
   "version": "3.11.4"
  }
 },
 "nbformat": 4,
 "nbformat_minor": 2
}
